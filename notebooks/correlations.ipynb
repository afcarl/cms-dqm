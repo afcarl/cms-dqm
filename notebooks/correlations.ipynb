{
 "cells": [
  {
   "cell_type": "markdown",
   "metadata": {},
   "source": [
    "# CMS Anomaly Detection"
   ]
  },
  {
   "cell_type": "markdown",
   "metadata": {},
   "source": [
    "## Prepearing data"
   ]
  },
  {
   "cell_type": "code",
   "execution_count": 1,
   "metadata": {
    "collapsed": true
   },
   "outputs": [],
   "source": [
    "%matplotlib inline\n",
    "import matplotlib.pyplot as plt\n",
    "plt.style.use('ggplot')\n",
    "\n",
    "import numpy as np\n",
    "import pandas as pd\n",
    "import collections\n",
    "import re\n",
    "\n",
    "DATA_PATH = 'merged.pickle'\n",
    "LABELS_PATH = './quality_2010/labels_v2.pickled'"
   ]
  },
  {
   "cell_type": "code",
   "execution_count": 2,
   "metadata": {},
   "outputs": [],
   "source": [
    "import cPickle as pickle\n",
    "\n",
    "with open(DATA_PATH, 'r') as f:\n",
    "    data = pickle.load(f)\n",
    "\n",
    "with open(LABELS_PATH, 'r') as f:\n",
    "    sub_labels = pickle.load(f)\n",
    "\n",
    "labels = sub_labels['json_0.txt']"
   ]
  },
  {
   "cell_type": "code",
   "execution_count": 3,
   "metadata": {},
   "outputs": [],
   "source": [
    "### technical columns\n",
    "not_features = [\n",
    "    '_luminosityBlock',\n",
    "    '_run'\n",
    "]\n",
    "\n",
    "### columns that correspond to actual features\n",
    "features = sorted(set(data.columns) - set(not_features))\n",
    "\n",
    "for f in features:\n",
    "    xs = data[f].values\n",
    "\n",
    "    if np.std(xs) > 0.0:\n",
    "        data[f] = (xs - np.mean(xs)) / np.std(xs)"
   ]
  },
  {
   "cell_type": "code",
   "execution_count": 4,
   "metadata": {
    "collapsed": true
   },
   "outputs": [],
   "source": [
    "lumi = np.maximum(\n",
    "    np.maximum(data['_instantLumi_minibias'].get_values(), data['_instantLumi_muons'].get_values()),\n",
    "    data['_instantLumi_photons'].get_values()\n",
    ")\n",
    "\n",
    "nonempty = np.where(lumi > 0.0)[0]\n",
    "\n",
    "data = data.iloc[nonempty]\n",
    "lumi = lumi[nonempty]\n",
    "labels = labels[nonempty]\n",
    "\n",
    "for k in sub_labels:\n",
    "    sub_labels[k] = sub_labels[k][nonempty]"
   ]
  },
  {
   "cell_type": "code",
   "execution_count": 5,
   "metadata": {
    "collapsed": true
   },
   "outputs": [],
   "source": [
    "subsytem_descriptions = dict(\n",
    "    [\n",
    "        ('json_0.txt', 'inclusive global label')\n",
    "    ] + [\n",
    "        ('json_%d.txt' % i, desc)\n",
    "        for i, desc in zip(range(15, 23), [\n",
    "            '15:DQM: Rpc GOOD,\\nDCS: Rpc',\n",
    "            '16:DQM: Csc GOOD,\\nDCS: Csc',\n",
    "            '17:DQM: Dt GOOD,\\nDCS: Dt',\n",
    "            '18:DQM: Hcal GOOD,\\nDCS: Hcal',\n",
    "            '19:DQM: Ecal GOOD,\\nDCS: Ecal',\n",
    "            '20:DQM: Es GOOD,\\nDCS: Es',\n",
    "            '21:DQM: Strip GOOD,\\nDCS: Strip',\n",
    "            '22:DQM: Pix GOOD,\\nDCS: Pix'\n",
    "        ])\n",
    "    ] + [\n",
    "        ('json_%d.txt' % i, desc)\n",
    "        for i, desc in zip(range(11, 15) + range(23, 25), [\n",
    "            '11: DQM: Muon GOOD,\\nDCS: Strip, Pix, Dt, Rpc, Csc on',\n",
    "            '12: DQM: Jmet GOOD,\\nDCS: Ecal, Hcal on',\n",
    "            '13: DQM: Egam GOOD,\\nDCS: Strip, Pix, Ecal on',\n",
    "            '14: DQM: Track GOOD,\\nDCS: Strip, Pix on',\n",
    "            '23: DQM: Hlt GOOD,\\nDCS: Strip, Pix, Ecal on',\n",
    "            '24: DQM: L1t GOOD,\\nDCS: none'\n",
    "        ])\n",
    "    ]\n",
    ")"
   ]
  },
  {
   "cell_type": "code",
   "execution_count": 6,
   "metadata": {
    "collapsed": true
   },
   "outputs": [],
   "source": [
    "Muon = sub_labels['json_11.txt']\n",
    "Ecal = sub_labels['json_19.txt']\n",
    "Track = sub_labels['json_14.txt']\n",
    "Strip = sub_labels['json_21.txt']\n",
    "Hlt = sub_labels['json_23.txt']\n",
    "Pix = sub_labels['json_22.txt']\n",
    "Rpc = sub_labels['json_15.txt']\n",
    "L1t = sub_labels['json_24.txt']\n",
    "Csc = sub_labels['json_16.txt']\n",
    "Hcal = sub_labels['json_18.txt']\n",
    "Dt = sub_labels['json_17.txt']\n",
    "Jetmet = sub_labels['json_12.txt']\n",
    "Egamma = sub_labels['json_13.txt']\n",
    "Es = sub_labels['json_20.txt']"
   ]
  },
  {
   "cell_type": "markdown",
   "metadata": {},
   "source": [
    "Let's check how these assumptions about data annotation are right:\n",
    "\n",
    "1) Track = Pix && Strip\n",
    "\n",
    "\n",
    "2) Jetmet = L1tcalo && Ecal && Hcal\n",
    "\n",
    "\n",
    "3) Egamma = L1tcalo && Ecal && Es && Track\n",
    "\n",
    "\n",
    "4) Muon = L1tmu && Dt && Rpc && Csc&& Track\n",
    "\n",
    "\n",
    "5) AllGood = Muon && Egamma && Jetmet && Track"
   ]
  },
  {
   "cell_type": "code",
   "execution_count": 7,
   "metadata": {},
   "outputs": [],
   "source": [
    "syss = [Muon, Ecal, Track, Strip,Hlt, Pix, Rpc, L1t, Csc, Hcal, Dt, Jetmet, Egamma, Es]\n",
    "syss_names = ['Muon', 'Ecal', 'Track', 'Strip' ,'Hlt' , 'Pix', 'Rpc', 'L1t', 'Csc', 'Hcal', 'Dt', 'Jetmet', 'Egamma', 'Es']"
   ]
  },
  {
   "cell_type": "code",
   "execution_count": 8,
   "metadata": {
    "collapsed": true
   },
   "outputs": [],
   "source": [
    "#functions to estimate the correlation between two sets of labels\n",
    "def get_cor_norm4(left, right): \n",
    "    #left input will be on x axis!\n",
    "    Cor = np.ones((2,2))\n",
    "    th = 0.5\n",
    "    Cor[0,0] = np.mean(np.where((left <= th)&(right <= th), 1, 0))\n",
    "    Cor[1,1] = np.mean(np.where((left > th)&(right > th), 1, 0))\n",
    "    \n",
    "    Cor[0,1] = np.mean(np.where((left > th)&(right <= th), 1, 0))\n",
    "    Cor[1,0] = np.mean(np.where((left <= th)&(right> th), 1, 0))\n",
    "    #print Cor\n",
    "    return Cor\n",
    "\n",
    "def get_cor_norm_row(left, right):\n",
    "    #left input will be on x axis!\n",
    "    zeros_l = left <= 0.5\n",
    "    ones_l = left > 0.5\n",
    "\n",
    "    Cor = np.ones((2,2))\n",
    "\n",
    "    Cor[0,0] = np.mean(np.where(right[zeros_l] <= 0.5, 1, 0))\n",
    "    Cor[1,1] = np.mean(np.where(right[ones_l] > 0.5, 1, 0))\n",
    "    \n",
    "    Cor[1,0] = 1. - Cor[0,0]\n",
    "    Cor[0,1] = 1. - Cor[1,1]\n",
    "    #print Cor\n",
    "    return Cor\n",
    "\n",
    "get_cor = get_cor_norm4"
   ]
  },
  {
   "cell_type": "markdown",
   "metadata": {},
   "source": [
    "## Example"
   ]
  },
  {
   "cell_type": "code",
   "execution_count": 9,
   "metadata": {},
   "outputs": [
    {
     "data": {
      "text/plain": [
       "<matplotlib.figure.Figure at 0x7f29210aef50>"
      ]
     },
     "metadata": {},
     "output_type": "display_data"
    },
    {
     "data": {
      "image/png": "[encoded data removed]",
      "text/plain": [
       "<matplotlib.figure.Figure at 0x7f29506666d0>"
      ]
     },
     "metadata": {},
     "output_type": "display_data"
    }
   ],
   "source": [
    "plt.figure(figsize=(10, 10))\n",
    "plt.matshow(get_cor(np.array([0., 0., 1., 0.]), \n",
    "                    np.array([0., 1., 1., 1.])), \n",
    "            cmap=plt.cm.viridis)\n",
    "plt.xticks(np.arange(2))\n",
    "plt.yticks(np.arange(2))\n",
    "plt.colorbar()\n",
    "plt.show()"
   ]
  },
  {
   "cell_type": "markdown",
   "metadata": {},
   "source": [
    "### Track = Pix && Strip"
   ]
  },
  {
   "cell_type": "code",
   "execution_count": 10,
   "metadata": {},
   "outputs": [
    {
     "data": {
      "text/plain": [
       "<matplotlib.figure.Figure at 0x7f291e71d250>"
      ]
     },
     "metadata": {},
     "output_type": "display_data"
    },
    {
     "data": {
      "image/png": "[encoded data removed]",
      "text/plain": [
       "<matplotlib.figure.Figure at 0x7f291e71d090>"
      ]
     },
     "metadata": {},
     "output_type": "display_data"
    }
   ],
   "source": [
    "M = get_cor(Strip*Pix, Track)\n",
    "\n",
    "plt.figure(figsize=(10, 10))\n",
    "plt.matshow(M,cmap=plt.cm.viridis)\n",
    "plt.grid(False)\n",
    "plt.ylabel('Track', fontsize =16)\n",
    "plt.xlabel('Pix && Strip', fontsize =16)\n",
    "for yind in range(2):\n",
    "    for xind in range(2):\n",
    "        plt.text(xind, yind, np.round(M[yind][xind],3), va='center', ha='center', fontsize = 20)\n",
    "plt.colorbar(orientation = 'horizontal')\n",
    "plt.show()"
   ]
  },
  {
   "cell_type": "markdown",
   "metadata": {},
   "source": [
    "Let's look at the components"
   ]
  },
  {
   "cell_type": "code",
   "execution_count": 11,
   "metadata": {},
   "outputs": [
    {
     "data": {
      "image/png": "[encoded data removed]",
      "text/plain": [
       "<matplotlib.figure.Figure at 0x7f2948258ad0>"
      ]
     },
     "metadata": {},
     "output_type": "display_data"
    },
    {
     "data": {
      "text/plain": [
       "array([[ 0.00415356,  0.        ],\n",
       "       [ 0.01705475,  0.97879169]])"
      ]
     },
     "execution_count": 11,
     "metadata": {},
     "output_type": "execute_result"
    }
   ],
   "source": [
    "plt.matshow(get_cor(Strip, Track), cmap=plt.cm.viridis)\n",
    "plt.ylabel('Track', fontsize =16)\n",
    "plt.xlabel('Strip', fontsize =16)\n",
    "plt.colorbar(orientation = 'horizontal')\n",
    "plt.show()\n",
    "\n",
    "get_cor(Strip, Track)"
   ]
  },
  {
   "cell_type": "code",
   "execution_count": 12,
   "metadata": {},
   "outputs": [
    {
     "data": {
      "image/png": "[encoded data removed]",
      "text/plain": [
       "<matplotlib.figure.Figure at 0x7f2905c4b0d0>"
      ]
     },
     "metadata": {},
     "output_type": "display_data"
    },
    {
     "data": {
      "text/plain": [
       "array([[ 0.00415356,  0.        ],\n",
       "       [ 0.01548143,  0.98036501]])"
      ]
     },
     "execution_count": 12,
     "metadata": {},
     "output_type": "execute_result"
    }
   ],
   "source": [
    "plt.matshow(get_cor(Pix, Track), cmap=plt.cm.viridis)\n",
    "plt.ylabel('Track', fontsize =16)\n",
    "plt.xlabel('Pix', fontsize =16)\n",
    "plt.colorbar(orientation = 'horizontal')\n",
    "plt.show()\n",
    "\n",
    "get_cor(Pix, Track)"
   ]
  },
  {
   "cell_type": "markdown",
   "metadata": {},
   "source": [
    "Strip can be zero and reports 'bad' sample, when Track label is one, as for good event. The same is true for Pix. So Track does not equal to Pix & Strip."
   ]
  },
  {
   "cell_type": "markdown",
   "metadata": {},
   "source": [
    "### Jetmet = L1tcalo && Ecal && Hcal"
   ]
  },
  {
   "cell_type": "code",
   "execution_count": 13,
   "metadata": {},
   "outputs": [
    {
     "data": {
      "text/plain": [
       "<matplotlib.figure.Figure at 0x7f291dab8c90>"
      ]
     },
     "metadata": {},
     "output_type": "display_data"
    },
    {
     "data": {
      "image/png": "[encoded data removed]",
      "text/plain": [
       "<matplotlib.figure.Figure at 0x7f291dab8c50>"
      ]
     },
     "metadata": {},
     "output_type": "display_data"
    }
   ],
   "source": [
    "M = get_cor(L1t * Ecal * Hcal, Jetmet)\n",
    "\n",
    "plt.figure(figsize=(10, 10))\n",
    "plt.matshow(M,cmap=plt.cm.viridis)\n",
    "plt.grid(False)\n",
    "plt.ylabel('Jetmet', fontsize =16)\n",
    "plt.xlabel('L1t & Ecal & Hcal', fontsize =16)\n",
    "for yind in range(2):\n",
    "    for xind in range(2):\n",
    "        plt.text(xind, yind, np.round(M[yind][xind],3), va='center', ha='center', fontsize = 20)\n",
    "plt.colorbar(orientation = 'horizontal')\n",
    "plt.show()"
   ]
  },
  {
   "cell_type": "markdown",
   "metadata": {},
   "source": [
    "Let's look at the components"
   ]
  },
  {
   "cell_type": "code",
   "execution_count": 14,
   "metadata": {},
   "outputs": [
    {
     "data": {
      "image/png": "[encoded data removed]",
      "text/plain": [
       "<matplotlib.figure.Figure at 0x7f29210ae8d0>"
      ]
     },
     "metadata": {},
     "output_type": "display_data"
    },
    {
     "data": {
      "text/plain": [
       "array([[ 0.00125865,  0.03908118],\n",
       "       [ 0.09465072,  0.86500944]])"
      ]
     },
     "execution_count": 14,
     "metadata": {},
     "output_type": "execute_result"
    }
   ],
   "source": [
    "plt.matshow(get_cor(Hcal, Jetmet), cmap=plt.cm.viridis)\n",
    "plt.ylabel('Jetmet', fontsize =16)\n",
    "plt.xlabel('Hcal', fontsize =16)\n",
    "plt.colorbar(orientation = 'horizontal')\n",
    "plt.show()\n",
    "\n",
    "get_cor(Hcal, Jetmet)"
   ]
  },
  {
   "cell_type": "code",
   "execution_count": 15,
   "metadata": {},
   "outputs": [
    {
     "data": {
      "image/png": "[encoded data removed]",
      "text/plain": [
       "<matplotlib.figure.Figure at 0x7f291e6eb1d0>"
      ]
     },
     "metadata": {},
     "output_type": "display_data"
    },
    {
     "data": {
      "text/plain": [
       "array([[ 0.00125865,  0.03908118],\n",
       "       [ 0.09465072,  0.86500944]])"
      ]
     },
     "execution_count": 15,
     "metadata": {},
     "output_type": "execute_result"
    }
   ],
   "source": [
    "plt.matshow(get_cor(L1t, Jetmet), cmap=plt.cm.viridis)\n",
    "plt.ylabel('Jetmet', fontsize =16)\n",
    "plt.xlabel('L1t', fontsize =16)\n",
    "plt.colorbar(orientation = 'horizontal')\n",
    "plt.show()\n",
    "\n",
    "get_cor(Hcal, Jetmet)"
   ]
  },
  {
   "cell_type": "code",
   "execution_count": 16,
   "metadata": {},
   "outputs": [
    {
     "data": {
      "image/png": "[encoded data removed]",
      "text/plain": [
       "<matplotlib.figure.Figure at 0x7f291da78310>"
      ]
     },
     "metadata": {},
     "output_type": "display_data"
    },
    {
     "data": {
      "text/plain": [
       "array([[ 0.00125865,  0.03908118],\n",
       "       [ 0.09465072,  0.86500944]])"
      ]
     },
     "execution_count": 16,
     "metadata": {},
     "output_type": "execute_result"
    }
   ],
   "source": [
    "plt.matshow(get_cor(Ecal, Jetmet), cmap=plt.cm.viridis)\n",
    "plt.ylabel('Jetmet', fontsize =16)\n",
    "plt.xlabel('Ecal', fontsize =16)\n",
    "plt.colorbar(orientation = 'horizontal')\n",
    "plt.show()\n",
    "\n",
    "get_cor(Hcal, Jetmet)"
   ]
  },
  {
   "cell_type": "code",
   "execution_count": 17,
   "metadata": {},
   "outputs": [
    {
     "data": {
      "image/png": "[encoded data removed]",
      "text/plain": [
       "<matplotlib.figure.Figure at 0x7f291da78b90>"
      ]
     },
     "metadata": {},
     "output_type": "display_data"
    },
    {
     "data": {
      "text/plain": [
       "array([[ 0.00125865,  0.03908118],\n",
       "       [ 0.09465072,  0.86500944]])"
      ]
     },
     "execution_count": 17,
     "metadata": {},
     "output_type": "execute_result"
    }
   ],
   "source": [
    "plt.matshow(get_cor(Ecal*Hcal, Jetmet), cmap=plt.cm.viridis)\n",
    "plt.ylabel('Jetmet', fontsize =16)\n",
    "plt.xlabel('Ecal & Hcal', fontsize =16)\n",
    "plt.colorbar(orientation = 'horizontal')\n",
    "plt.show()\n",
    "\n",
    "get_cor(Hcal, Jetmet)"
   ]
  },
  {
   "cell_type": "markdown",
   "metadata": {},
   "source": [
    "There is no expected correlations too."
   ]
  },
  {
   "cell_type": "markdown",
   "metadata": {},
   "source": [
    "### Egamma = L1t && Ecal && Es && Track"
   ]
  },
  {
   "cell_type": "code",
   "execution_count": 18,
   "metadata": {
    "scrolled": true
   },
   "outputs": [
    {
     "data": {
      "text/plain": [
       "<matplotlib.figure.Figure at 0x7f291e6d9250>"
      ]
     },
     "metadata": {},
     "output_type": "display_data"
    },
    {
     "data": {
      "image/png": "[encoded data removed]",
      "text/plain": [
       "<matplotlib.figure.Figure at 0x7f291d979150>"
      ]
     },
     "metadata": {},
     "output_type": "display_data"
    }
   ],
   "source": [
    "plt.figure(figsize=(10, 10))\n",
    "M = get_cor(L1t * Ecal * Es * Track, Egamma)\n",
    "plt.matshow(M,cmap=plt.cm.viridis)\n",
    "plt.grid(False)\n",
    "plt.ylabel('Egamma', fontsize =16)\n",
    "plt.xlabel('L1t & Ecal & Es & Track', fontsize =16)\n",
    "for yind in range(2):\n",
    "    for xind in range(2):\n",
    "        plt.text(xind, yind, np.round(M[yind][xind],3), va='center', ha='center', fontsize = 20)\n",
    "plt.colorbar(orientation = 'horizontal')\n",
    "plt.show()"
   ]
  },
  {
   "cell_type": "markdown",
   "metadata": {},
   "source": [
    "Again there are good Egamma labels, L1t && Ecal && Es && Track equals zero."
   ]
  },
  {
   "cell_type": "code",
   "execution_count": 19,
   "metadata": {},
   "outputs": [
    {
     "data": {
      "text/plain": [
       "<matplotlib.figure.Figure at 0x7f291e6d0e50>"
      ]
     },
     "metadata": {},
     "output_type": "display_data"
    },
    {
     "data": {
      "image/png": "[encoded data removed]",
      "text/plain": [
       "<matplotlib.figure.Figure at 0x7f291d89a650>"
      ]
     },
     "metadata": {},
     "output_type": "display_data"
    },
    {
     "data": {
      "text/plain": [
       "array([[ 0.00125865,  0.09509125],\n",
       "       [ 0.0028949 ,  0.90075519]])"
      ]
     },
     "execution_count": 19,
     "metadata": {},
     "output_type": "execute_result"
    }
   ],
   "source": [
    "plt.figure(figsize=(10, 10))\n",
    "plt.matshow(get_cor(Ecal, Egamma), cmap=plt.cm.viridis)\n",
    "plt.ylabel('Egamma', fontsize =16)\n",
    "plt.xlabel('Ecal', fontsize =16)\n",
    "plt.colorbar(orientation = 'horizontal')\n",
    "plt.show()\n",
    "\n",
    "get_cor(Track, Ecal)"
   ]
  },
  {
   "cell_type": "code",
   "execution_count": 20,
   "metadata": {},
   "outputs": [
    {
     "data": {
      "text/plain": [
       "<matplotlib.figure.Figure at 0x7f291dc9a210>"
      ]
     },
     "metadata": {},
     "output_type": "display_data"
    },
    {
     "data": {
      "image/png": "[encoded data removed]",
      "text/plain": [
       "<matplotlib.figure.Figure at 0x7f291d936750>"
      ]
     },
     "metadata": {},
     "output_type": "display_data"
    },
    {
     "data": {
      "text/plain": [
       "array([[ 0.00415356,  0.03580868],\n",
       "       [ 0.        ,  0.96003776]])"
      ]
     },
     "execution_count": 20,
     "metadata": {},
     "output_type": "execute_result"
    }
   ],
   "source": [
    "plt.figure(figsize=(10, 10))\n",
    "plt.matshow(get_cor(Track, Egamma), cmap=plt.cm.viridis)\n",
    "plt.ylabel('Egamma', fontsize =16)\n",
    "plt.xlabel('Track', fontsize =16)\n",
    "plt.colorbar(orientation = 'horizontal')\n",
    "plt.show()\n",
    "\n",
    "get_cor(Track, Egamma)"
   ]
  },
  {
   "cell_type": "code",
   "execution_count": 21,
   "metadata": {},
   "outputs": [
    {
     "data": {
      "text/plain": [
       "<matplotlib.figure.Figure at 0x7f291dc9a810>"
      ]
     },
     "metadata": {},
     "output_type": "display_data"
    },
    {
     "data": {
      "image/png": "[encoded data removed]",
      "text/plain": [
       "<matplotlib.figure.Figure at 0x7f291dc9ac50>"
      ]
     },
     "metadata": {},
     "output_type": "display_data"
    },
    {
     "name": "stdout",
     "output_type": "stream",
     "text": [
      "[[  3.90182505e-03   3.60604154e-02]\n",
      " [  1.25865324e-04   9.59911894e-01]]\n"
     ]
    }
   ],
   "source": [
    "plt.figure(figsize=(10, 10))\n",
    "plt.matshow(get_cor(Es,  Egamma), cmap=plt.cm.viridis)\n",
    "plt.ylabel('Egamma', fontsize =16)\n",
    "plt.xlabel('Es', fontsize =16)\n",
    "plt.colorbar(orientation = 'horizontal')\n",
    "plt.show()\n",
    "print get_cor(Es,  Egamma)"
   ]
  },
  {
   "cell_type": "markdown",
   "metadata": {},
   "source": [
    "### Muon = L1tmu && Dt && Rpc && Csc&& Track"
   ]
  },
  {
   "cell_type": "markdown",
   "metadata": {},
   "source": [
    "The equality does not hold."
   ]
  },
  {
   "cell_type": "code",
   "execution_count": 22,
   "metadata": {},
   "outputs": [
    {
     "data": {
      "text/plain": [
       "<matplotlib.figure.Figure at 0x7f291e6cdf90>"
      ]
     },
     "metadata": {},
     "output_type": "display_data"
    },
    {
     "data": {
      "image/png": "[encoded data removed]",
      "text/plain": [
       "<matplotlib.figure.Figure at 0x7f291dde28d0>"
      ]
     },
     "metadata": {},
     "output_type": "display_data"
    }
   ],
   "source": [
    "plt.figure(figsize=(10, 10))\n",
    "M = get_cor(L1t * Dt * Rpc * Csc * Track, Muon)\n",
    "plt.matshow(M,cmap=plt.cm.viridis)\n",
    "plt.grid(False)\n",
    "plt.ylabel('Muon', fontsize =16)\n",
    "plt.xlabel('L1t & Dt & Rpc & Csc & Track', fontsize =16)\n",
    "for yind in range(2):\n",
    "    for xind in range(2):\n",
    "        plt.text(xind, yind, np.round(M[yind][xind],3), va='center', ha='center', fontsize = 20)\n",
    "plt.colorbar(orientation = 'horizontal')\n",
    "plt.show()"
   ]
  },
  {
   "cell_type": "markdown",
   "metadata": {},
   "source": [
    "### AllGood = Muon && Egamma && Jetmet && Track"
   ]
  },
  {
   "cell_type": "code",
   "execution_count": 23,
   "metadata": {},
   "outputs": [
    {
     "data": {
      "text/plain": [
       "<matplotlib.figure.Figure at 0x7f291dcaf310>"
      ]
     },
     "metadata": {},
     "output_type": "display_data"
    },
    {
     "data": {
      "image/png": "[encoded data removed]",
      "text/plain": [
       "<matplotlib.figure.Figure at 0x7f291dde2890>"
      ]
     },
     "metadata": {},
     "output_type": "display_data"
    }
   ],
   "source": [
    "plt.figure(figsize=(10, 10))\n",
    "M = get_cor(Muon * Egamma * Jetmet * Track * Hlt, labels)\n",
    "plt.matshow(M,cmap=plt.cm.viridis)\n",
    "plt.grid(False)\n",
    "plt.ylabel('AllGood', fontsize =16)\n",
    "plt.xlabel('Muon & Egamma & Jetmet & Track & Hlt', fontsize =16)\n",
    "for yind in range(2):\n",
    "    for xind in range(2):\n",
    "        plt.text(xind, yind, np.round(M[yind][xind],3), va='center', ha='center', fontsize = 20)\n",
    "plt.colorbar(orientation = 'horizontal')\n",
    "plt.show()"
   ]
  },
  {
   "cell_type": "markdown",
   "metadata": {},
   "source": [
    "### Number of anomalies in subsystems."
   ]
  },
  {
   "cell_type": "code",
   "execution_count": 24,
   "metadata": {},
   "outputs": [
    {
     "name": "stdout",
     "output_type": "stream",
     "text": [
      "inclusive global label:    3955.0\n",
      "11: DQM: Muon GOOD,\n",
      "DCS: Strip, Pix, Dt, Rpc, Csc on:    447.0\n",
      "12: DQM: Jmet GOOD,\n",
      "DCS: Ecal, Hcal on:    641.0\n",
      "13: DQM: Egam GOOD,\n",
      "DCS: Strip, Pix, Ecal on:    635.0\n",
      "14: DQM: Track GOOD,\n",
      "DCS: Strip, Pix on:    66.0\n",
      "15:DQM: Rpc GOOD,\n",
      "DCS: Rpc:    189.0\n",
      "16:DQM: Csc GOOD,\n",
      "DCS: Csc:    158.0\n",
      "17:DQM: Dt GOOD,\n",
      "DCS: Dt:    249.0\n",
      "18:DQM: Hcal GOOD,\n",
      "DCS: Hcal:    1524.0\n",
      "19:DQM: Ecal GOOD,\n",
      "DCS: Ecal:    1531.0\n",
      "20:DQM: Es GOOD,\n",
      "DCS: Es:    64.0\n",
      "21:DQM: Strip GOOD,\n",
      "DCS: Strip:    337.0\n",
      "22:DQM: Pix GOOD,\n",
      "DCS: Pix:    312.0\n",
      "23: DQM: Hlt GOOD,\n",
      "DCS: Strip, Pix, Ecal on:    585.0\n",
      "24: DQM: L1t GOOD,\n",
      "DCS: none:    673.0\n"
     ]
    }
   ],
   "source": [
    "sub_systems = sorted(sub_labels.keys())\n",
    "zeros_in_data = []\n",
    "names_subsys = []\n",
    "for sub_system in sub_systems:\n",
    "    names_subsys.append(sub_system)\n",
    "    zeros_in_data.append(len(sub_labels[sub_system])-np.sum(sub_labels[sub_system]))\n",
    "    print (subsytem_descriptions[sub_system] +\n",
    "            ':    ' + str(len(sub_labels[sub_system])-np.sum(sub_labels[sub_system]))\n",
    "           )"
   ]
  },
  {
   "cell_type": "markdown",
   "metadata": {},
   "source": [
    "### Anomalies distribution."
   ]
  },
  {
   "cell_type": "code",
   "execution_count": 25,
   "metadata": {},
   "outputs": [
    {
     "data": {
      "image/png": "[encoded data removed]",
      "text/plain": [
       "<matplotlib.figure.Figure at 0x7f291d8104d0>"
      ]
     },
     "metadata": {},
     "output_type": "display_data"
    }
   ],
   "source": [
    "N = len(zeros_in_data)\n",
    "ind = np.arange(N)  # the x locations\n",
    "width = 0.35       # the width of the bars\n",
    "\n",
    "plt.figure(figsize=(10, 8))\n",
    "plt.bar(ind, zeros_in_data, width, color='r')\n",
    "plt.xticks(ind, names_subsys, rotation=45)\n",
    "plt.show()"
   ]
  },
  {
   "cell_type": "markdown",
   "metadata": {},
   "source": [
    "Most of the anomalies are concentrated in Ecal and Hcal systems."
   ]
  },
  {
   "cell_type": "markdown",
   "metadata": {},
   "source": [
    "Let's focus on low-level systems (json 15 - json 22) and calculate the number of anomalies in the subsystems, which occurred in exactly one subsystem. It means, that we are searching for events, which origin is better interpretable, as anomaly is caused by one low-level system."
   ]
  },
  {
   "cell_type": "code",
   "execution_count": 26,
   "metadata": {},
   "outputs": [],
   "source": [
    "zp = [] #array with indices for all zeros in data\n",
    "for sub_system in sub_systems[5:-2]: \n",
    "    zp = np.hstack((zp,np.where(sub_labels[sub_system] == 0.)[0]))\n",
    "#indices for events with anomaly in exactly one subsystem\n",
    "anomaly_once = [int(item) for item, count in collections.Counter(zp).items() if count == 1] "
   ]
  },
  {
   "cell_type": "code",
   "execution_count": 27,
   "metadata": {
    "collapsed": true
   },
   "outputs": [],
   "source": [
    "zeros_once = [] #Number of unique anomalies in jsons15-22\n",
    "names_subsys = []\n",
    "for sub_system in sub_systems[5:-2]:\n",
    "    names_subsys.append(sub_system)\n",
    "    zeros_once.append(len(sub_labels[sub_system][anomaly_once])-np.sum(sub_labels[sub_system][anomaly_once]))"
   ]
  },
  {
   "cell_type": "code",
   "execution_count": 28,
   "metadata": {},
   "outputs": [
    {
     "data": {
      "image/png": "[encoded data removed]",
      "text/plain": [
       "<matplotlib.figure.Figure at 0x7f291da10850>"
      ]
     },
     "metadata": {},
     "output_type": "display_data"
    }
   ],
   "source": [
    "N = len(zeros_once)\n",
    "ind = np.arange(N)  \n",
    "width = 0.35      \n",
    "\n",
    "plt.figure(figsize=(10, 8))\n",
    "plt.bar(ind, zeros_once, width, color='r')\n",
    "\n",
    "plt.xticks(ind, names_subsys, rotation=45)\n",
    "plt.show()"
   ]
  },
  {
   "cell_type": "markdown",
   "metadata": {},
   "source": [
    "Hcal and Ecal bars are almost the same as before. Ecal and Ecal bars are almost the same as before. It means that when there is an anomaly in this systems there is no usually any other marks about anomalies in other subsystems."
   ]
  },
  {
   "cell_type": "code",
   "execution_count": 29,
   "metadata": {},
   "outputs": [
    {
     "data": {
      "text/plain": [
       "20"
      ]
     },
     "execution_count": 29,
     "metadata": {},
     "output_type": "execute_result"
    }
   ],
   "source": [
    "len(np.where((sub_labels[\"json_18.txt\"] == 0.)&(sub_labels[\"json_19.txt\"] == 0.))[0])"
   ]
  },
  {
   "cell_type": "markdown",
   "metadata": {},
   "source": [
    "There are only 20 overlapping anomalies in Ecal and Hcal."
   ]
  },
  {
   "cell_type": "markdown",
   "metadata": {},
   "source": [
    "And no unique anomilies in json_20 (Es). And no unique anomalies in json_20 (Is). The next plot shows that they are overlapping either with anomalies from Strip and Pix or when anomaly detected in all systems."
   ]
  },
  {
   "cell_type": "code",
   "execution_count": 30,
   "metadata": {},
   "outputs": [
    {
     "data": {
      "text/plain": [
       "<matplotlib.figure.Figure at 0x7f291d9e3a90>"
      ]
     },
     "metadata": {},
     "output_type": "display_data"
    },
    {
     "data": {
      "image/png": "[encoded data removed]",
      "text/plain": [
       "<matplotlib.figure.Figure at 0x7f291d9e3b10>"
      ]
     },
     "metadata": {},
     "output_type": "display_data"
    }
   ],
   "source": [
    "anomalies_m = [int(item) for item, count in collections.Counter(zp).items() \n",
    "               if count != 1 if sub_labels['json_20.txt'][int(item)]==0]\n",
    "M = []\n",
    "for sub_system in sub_systems[5:-2]:\n",
    "    M.append(sub_labels[sub_system][anomalies_m])\n",
    "plt.figure(figsize=(1, 4))\n",
    "plt.matshow(np.array(M).T, cmap=plt.cm.viridis)\n",
    "plt.show()"
   ]
  },
  {
   "cell_type": "markdown",
   "metadata": {
    "collapsed": true
   },
   "source": []
  }
 ],
 "metadata": {
  "anaconda-cloud": {},
  "kernelspec": {
   "display_name": "Python 2",
   "language": "python",
   "name": "python2"
  },
  "language_info": {
   "codemirror_mode": {
    "name": "ipython",
    "version": 2
   },
   "file_extension": ".py",
   "mimetype": "text/x-python",
   "name": "python",
   "nbconvert_exporter": "python",
   "pygments_lexer": "ipython2",
   "version": "2.7.13"
  }
 },
 "nbformat": 4,
 "nbformat_minor": 1
}
