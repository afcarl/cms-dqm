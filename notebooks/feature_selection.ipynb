{
 "cells": [
  {
   "cell_type": "markdown",
   "metadata": {},
   "source": [
    "* muons from muon stream\n",
    "* photons from photon stream\n",
    "* Particle Flows from zerobias stream\n",
    "* calo particles from zerobias stream"
   ]
  },
  {
   "cell_type": "code",
   "execution_count": 1,
   "metadata": {
    "collapsed": false
   },
   "outputs": [],
   "source": [
    "import numpy as np\n",
    "import pandas as pd\n",
    "import os\n",
    "from tqdm import tqdm"
   ]
  },
  {
   "cell_type": "code",
   "execution_count": 2,
   "metadata": {
    "collapsed": true
   },
   "outputs": [],
   "source": [
    "import matplotlib.pyplot as plt\n",
    "%matplotlib inline"
   ]
  },
  {
   "cell_type": "code",
   "execution_count": 3,
   "metadata": {
    "collapsed": false
   },
   "outputs": [
    {
     "name": "stdout",
     "output_type": "stream",
     "text": [
      "/home/fedor/notebook/ml4dc/ok_files/ZeroBias/crab_ZeroBiasRun_2016G-18Apr2017-v1/170808_215231/0000 has 0 subdirectories and 3 files\n",
      "/home/fedor/notebook/ml4dc/ok_files/ZeroBias/crab_ZeroBiasRun_2016G-18Apr2017-v1/170808_215231/0001 has 0 subdirectories and 2 files\n",
      "/home/fedor/notebook/ml4dc/ok_files/ZeroBias/crab_ZeroBiasRun_2016F-18Apr2017-v1/170808_215223/0000 has 0 subdirectories and 362 files\n",
      "/home/fedor/notebook/ml4dc/ok_files/ZeroBias/crab_ZeroBiasRun_2016C-18Apr2017-v1/170808_215201/0000 has 0 subdirectories and 26 files\n",
      "/home/fedor/notebook/ml4dc/ok_files/ZeroBias/crab_ZeroBiasRun_2016E-18Apr2017-v1/170808_215215/0000 has 0 subdirectories and 396 files\n",
      "/home/fedor/notebook/ml4dc/ok_files/ZeroBias/crab_ZeroBiasRun_2016D-18Apr2017-v1/170808_215208/0000 has 0 subdirectories and 665 files\n",
      "/home/fedor/notebook/ml4dc/ok_files/ZeroBias/crab_ZeroBiasRun_2016H-18Apr2017-v1/170808_215239/0000 has 0 subdirectories and 978 files\n",
      "/home/fedor/notebook/ml4dc/ok_files/ZeroBias/crab_ZeroBiasRun_2016H-18Apr2017-v1/170808_215239/0001 has 0 subdirectories and 104 files\n",
      "/home/fedor/notebook/ml4dc/ok_files/SinglePhoton/crab_SinglePhotonRun_2016H-18Apr2017-v1/170808_215104/0000 has 0 subdirectories and 39 files\n",
      "/home/fedor/notebook/ml4dc/ok_files/SinglePhoton/crab_SinglePhotonRun_2016D-18Apr2017-v1/170808_215023/0000 has 0 subdirectories and 245 files\n",
      "/home/fedor/notebook/ml4dc/ok_files/SinglePhoton/crab_SinglePhotonRun_2016C-18Apr2017-v1/170808_215010/0000 has 0 subdirectories and 441 files\n",
      "/home/fedor/notebook/ml4dc/ok_files/SinglePhoton/crab_SinglePhotonRun_2016F-18Apr2017-v1/170808_215043/0000 has 0 subdirectories and 305 files\n",
      "/home/fedor/notebook/ml4dc/ok_files/SinglePhoton/crab_SinglePhotonRun_2016G-18Apr2017-v1/170808_215053/0000 has 0 subdirectories and 916 files\n",
      "/home/fedor/notebook/ml4dc/ok_files/SinglePhoton/crab_SinglePhotonRun_2016G-18Apr2017-v1/170808_215053/0001 has 0 subdirectories and 80 files\n",
      "/home/fedor/notebook/ml4dc/ok_files/SingleMuon/crab_SingleMuonRun_2016E-18Apr2017-v1/170808_214925/0000 has 0 subdirectories and 344 files\n",
      "/home/fedor/notebook/ml4dc/ok_files/SingleMuon/crab_SingleMuonRun_2016D-18Apr2017-v1/170808_214916/0000 has 0 subdirectories and 704 files\n",
      "/home/fedor/notebook/ml4dc/ok_files/SingleMuon/crab_SingleMuonRun_2016H-18Apr2017-v1/170808_215001/0000 has 0 subdirectories and 898 files\n",
      "/home/fedor/notebook/ml4dc/ok_files/SingleMuon/crab_SingleMuonRun_2016H-18Apr2017-v1/170808_215001/0001 has 0 subdirectories and 162 files\n",
      "/home/fedor/notebook/ml4dc/ok_files/SingleMuon/crab_SingleMuonRun_2016G-18Apr2017-v1/170808_214948/0000 has 0 subdirectories and 945 files\n",
      "/home/fedor/notebook/ml4dc/ok_files/SingleMuon/crab_SingleMuonRun_2016G-18Apr2017-v1/170808_214948/0001 has 0 subdirectories and 31 files\n",
      "/home/fedor/notebook/ml4dc/ok_files/SingleMuon/crab_SingleMuonRun_2016C-18Apr2017-v1/170808_214908/0000 has 0 subdirectories and 415 files\n"
     ]
    }
   ],
   "source": [
    "mydir = '/home/fedor/notebook/ml4dc/ok_files'\n",
    "paths = []\n",
    "for dirpath, dirnames, filenames in os.walk(mydir):\n",
    "    if not dirnames:\n",
    "        paths.append(dirpath)\n",
    "        print dirpath, \"has 0 subdirectories and\", len(filenames), \"files\""
   ]
  },
  {
   "cell_type": "code",
   "execution_count": 4,
   "metadata": {
    "collapsed": true
   },
   "outputs": [],
   "source": [
    "not_presented_everywhere = ['/home/fedor/notebook/ml4dc/ok_files/SingleMuon/crab_SingleMuonRun_2016E-18Apr2017-v1/170808_214925/0000',\n",
    "                            '/home/fedor/notebook/ml4dc/ok_files/SinglePhoton/crab_SinglePhotonRun_2016F-18Apr2017-v1/170808_215043/0000',\n",
    "                            '/home/fedor/notebook/ml4dc/ok_files/ZeroBias/crab_ZeroBiasRun_2016E-18Apr2017-v1/170808_215215/0000',\n",
    "                            '/home/fedor/notebook/ml4dc/ok_files/ZeroBias/crab_ZeroBiasRun_2016F-18Apr2017-v1/170808_215223/0000']"
   ]
  },
  {
   "cell_type": "code",
   "execution_count": 5,
   "metadata": {
    "collapsed": false
   },
   "outputs": [
    {
     "data": {
      "text/plain": [
       "array([ '/home/fedor/notebook/ml4dc/ok_files/SingleMuon/crab_SingleMuonRun_2016C-18Apr2017-v1/170808_214908/0000',\n",
       "       '/home/fedor/notebook/ml4dc/ok_files/SingleMuon/crab_SingleMuonRun_2016D-18Apr2017-v1/170808_214916/0000',\n",
       "       '/home/fedor/notebook/ml4dc/ok_files/SingleMuon/crab_SingleMuonRun_2016G-18Apr2017-v1/170808_214948/0000',\n",
       "       '/home/fedor/notebook/ml4dc/ok_files/SingleMuon/crab_SingleMuonRun_2016G-18Apr2017-v1/170808_214948/0001',\n",
       "       '/home/fedor/notebook/ml4dc/ok_files/SingleMuon/crab_SingleMuonRun_2016H-18Apr2017-v1/170808_215001/0000',\n",
       "       '/home/fedor/notebook/ml4dc/ok_files/SingleMuon/crab_SingleMuonRun_2016H-18Apr2017-v1/170808_215001/0001',\n",
       "       '/home/fedor/notebook/ml4dc/ok_files/SinglePhoton/crab_SinglePhotonRun_2016C-18Apr2017-v1/170808_215010/0000',\n",
       "       '/home/fedor/notebook/ml4dc/ok_files/SinglePhoton/crab_SinglePhotonRun_2016D-18Apr2017-v1/170808_215023/0000',\n",
       "       '/home/fedor/notebook/ml4dc/ok_files/SinglePhoton/crab_SinglePhotonRun_2016G-18Apr2017-v1/170808_215053/0000',\n",
       "       '/home/fedor/notebook/ml4dc/ok_files/SinglePhoton/crab_SinglePhotonRun_2016G-18Apr2017-v1/170808_215053/0001',\n",
       "       '/home/fedor/notebook/ml4dc/ok_files/SinglePhoton/crab_SinglePhotonRun_2016H-18Apr2017-v1/170808_215104/0000',\n",
       "       '/home/fedor/notebook/ml4dc/ok_files/ZeroBias/crab_ZeroBiasRun_2016C-18Apr2017-v1/170808_215201/0000',\n",
       "       '/home/fedor/notebook/ml4dc/ok_files/ZeroBias/crab_ZeroBiasRun_2016D-18Apr2017-v1/170808_215208/0000',\n",
       "       '/home/fedor/notebook/ml4dc/ok_files/ZeroBias/crab_ZeroBiasRun_2016G-18Apr2017-v1/170808_215231/0000',\n",
       "       '/home/fedor/notebook/ml4dc/ok_files/ZeroBias/crab_ZeroBiasRun_2016G-18Apr2017-v1/170808_215231/0001',\n",
       "       '/home/fedor/notebook/ml4dc/ok_files/ZeroBias/crab_ZeroBiasRun_2016H-18Apr2017-v1/170808_215239/0000',\n",
       "       '/home/fedor/notebook/ml4dc/ok_files/ZeroBias/crab_ZeroBiasRun_2016H-18Apr2017-v1/170808_215239/0001'],\n",
       "      dtype='|S107')"
      ]
     },
     "execution_count": 5,
     "metadata": {},
     "output_type": "execute_result"
    }
   ],
   "source": [
    "working_paths = np.sort(list(set(paths) - set(not_presented_everywhere)))\n",
    "working_paths"
   ]
  },
  {
   "cell_type": "code",
   "execution_count": 6,
   "metadata": {
    "collapsed": false
   },
   "outputs": [],
   "source": [
    "sample = np.load(working_paths[0] +'/'+ os.listdir(working_paths[0])[0], encoding=\"latin1\")"
   ]
  },
  {
   "cell_type": "code",
   "execution_count": 7,
   "metadata": {
    "collapsed": true
   },
   "outputs": [],
   "source": [
    "all_features = sample.dtype.names"
   ]
  },
  {
   "cell_type": "code",
   "execution_count": 8,
   "metadata": {
    "collapsed": true
   },
   "outputs": [],
   "source": [
    "Ids_labels = ['runId','lumiId','lumi','isSig','subsystemQuality']"
   ]
  },
  {
   "cell_type": "code",
   "execution_count": 9,
   "metadata": {
    "collapsed": false
   },
   "outputs": [
    {
     "data": {
      "text/plain": [
       "16"
      ]
     },
     "execution_count": 9,
     "metadata": {},
     "output_type": "execute_result"
    }
   ],
   "source": [
    "subsystemNames = ['L1tcalo', 'L1tmu', 'Hlt', 'Pix', 'Strip', 'Ecal', 'Hcal', 'Dt',\n",
    "                    'Rpc', 'Es', 'Csc', 'Track', 'Egamma', 'Muon', 'Jetmet', 'Lumi']\n",
    "len(subsystemNames)"
   ]
  },
  {
   "cell_type": "code",
   "execution_count": 10,
   "metadata": {
    "collapsed": false
   },
   "outputs": [
    {
     "data": {
      "text/plain": [
       "20"
      ]
     },
     "execution_count": 10,
     "metadata": {},
     "output_type": "execute_result"
    }
   ],
   "source": [
    "4+16"
   ]
  },
  {
   "cell_type": "code",
   "execution_count": 11,
   "metadata": {
    "collapsed": true
   },
   "outputs": [],
   "source": [
    "def get_channel_frame(paths, features):\n",
    "    why_number = []\n",
    "    why_name = []\n",
    "    frames = []\n",
    "    for dir in paths:\n",
    "        sm = os.listdir(dir)\n",
    "        for f in tqdm(sm):\n",
    "            b = {}\n",
    "            a = np.load(dir + \"/\" + f, encoding=\"latin1\")\n",
    "\n",
    "            replace = {True:1 , False:0}    \n",
    "            for i, s_name in enumerate(subsystemNames):\n",
    "                bb = [] \n",
    "                for s_labels in a[\"subsystemQuality\"]:    \n",
    "                    bb.append(replace[s_labels[i]])\n",
    "                b[s_name] = bb   \n",
    "\n",
    "            for name in features:\n",
    "                for i in range(7):\n",
    "                    bb = []\n",
    "                    for k, a_7 in enumerate(a[name]):\n",
    "                        if len(a_7)<7:\n",
    "                            why_name.append(dir+\"/\"+f+\"/\"+str(a['runId'][k])+\"/\"+str(a['lumiId'][k]))#+\"/\"+name)\n",
    "                            why_number.append(len(a_7))    \n",
    "                        if i < len(a_7):\n",
    "                            bb.append(a_7[i])\n",
    "                        else:    \n",
    "                            bb.append(None)\n",
    "                    b[name + '_' + str(i)] = bb\n",
    "\n",
    "            df = pd.DataFrame(a[Ids_labels[:-1]])\n",
    "            df_explicit = pd.concat([df, pd.DataFrame.from_dict(b)], axis = 1)\n",
    "            frames.append(df_explicit)\n",
    "\n",
    "    result = pd.concat(frames)\n",
    "    return result, why_number, why_name\n",
    "   "
   ]
  },
  {
   "cell_type": "markdown",
   "metadata": {},
   "source": [
    "## Muons"
   ]
  },
  {
   "cell_type": "code",
   "execution_count": 12,
   "metadata": {
    "collapsed": false
   },
   "outputs": [],
   "source": [
    "Muon_features = [s for s in all_features if (s[:3] == 'qMu') and (s[3:7] != 'Cosm')]"
   ]
  },
  {
   "cell_type": "code",
   "execution_count": 13,
   "metadata": {
    "collapsed": false
   },
   "outputs": [],
   "source": [
    "removelist = ['qMuCh_', 'qMuChi2_']\n",
    "Muon_features = [v for v in Muon_features if v not in removelist]"
   ]
  },
  {
   "cell_type": "code",
   "execution_count": 14,
   "metadata": {
    "collapsed": false
   },
   "outputs": [
    {
     "data": {
      "text/plain": [
       "['qMu0Pt',\n",
       " 'qMu1Pt',\n",
       " 'qMu2Pt',\n",
       " 'qMu3Pt',\n",
       " 'qMu4Pt',\n",
       " 'qMu5Pt',\n",
       " 'qMu0Eta',\n",
       " 'qMu1Eta',\n",
       " 'qMu2Eta',\n",
       " 'qMu3Eta',\n",
       " 'qMu4Eta',\n",
       " 'qMu5Eta',\n",
       " 'qMu0Phi',\n",
       " 'qMu1Phi',\n",
       " 'qMu2Phi',\n",
       " 'qMu3Phi',\n",
       " 'qMu4Phi',\n",
       " 'qMu5Phi',\n",
       " 'qMu0En',\n",
       " 'qMu1En',\n",
       " 'qMu2En',\n",
       " 'qMu3En',\n",
       " 'qMu4En',\n",
       " 'qMu5En',\n",
       " 'qMuPt',\n",
       " 'qMuEta',\n",
       " 'qMuPhi',\n",
       " 'qMuEn_']"
      ]
     },
     "execution_count": 14,
     "metadata": {},
     "output_type": "execute_result"
    }
   ],
   "source": [
    "Muon_features"
   ]
  },
  {
   "cell_type": "code",
   "execution_count": 15,
   "metadata": {
    "collapsed": false
   },
   "outputs": [
    {
     "data": {
      "text/plain": [
       "28"
      ]
     },
     "execution_count": 15,
     "metadata": {},
     "output_type": "execute_result"
    }
   ],
   "source": [
    "len(Muon_features)"
   ]
  },
  {
   "cell_type": "code",
   "execution_count": 16,
   "metadata": {
    "collapsed": false
   },
   "outputs": [
    {
     "data": {
      "text/plain": [
       "216"
      ]
     },
     "execution_count": 16,
     "metadata": {},
     "output_type": "execute_result"
    }
   ],
   "source": [
    "len(Muon_features)*7+20"
   ]
  },
  {
   "cell_type": "code",
   "execution_count": 17,
   "metadata": {
    "collapsed": false
   },
   "outputs": [
    {
     "name": "stderr",
     "output_type": "stream",
     "text": [
      "100%|██████████| 415/415 [00:43<00:00, 10.33it/s]\n",
      "100%|██████████| 704/704 [01:14<00:00,  9.59it/s]\n",
      "100%|██████████| 945/945 [01:40<00:00,  9.10it/s]\n",
      "100%|██████████| 31/31 [00:03<00:00,  9.53it/s]\n",
      "100%|██████████| 898/898 [01:34<00:00,  9.41it/s]\n",
      "100%|██████████| 162/162 [00:17<00:00,  8.92it/s]\n"
     ]
    }
   ],
   "source": [
    "result_m, num_m, name_m = get_channel_frame(working_paths[0:6], Muon_features)"
   ]
  },
  {
   "cell_type": "code",
   "execution_count": 18,
   "metadata": {
    "collapsed": false
   },
   "outputs": [
    {
     "data": {
      "text/plain": [
       "array([ '/home/fedor/notebook/ml4dc/ok_files/SingleMuon/crab_SingleMuonRun_2016C-18Apr2017-v1/170808_214908/0000/AODTree_115.npy/276243/592',\n",
       "       '/home/fedor/notebook/ml4dc/ok_files/SingleMuon/crab_SingleMuonRun_2016C-18Apr2017-v1/170808_214908/0000/AODTree_365.npy/276243/1',\n",
       "       '/home/fedor/notebook/ml4dc/ok_files/SingleMuon/crab_SingleMuonRun_2016C-18Apr2017-v1/170808_214908/0000/AODTree_378.npy/276244/4',\n",
       "       '/home/fedor/notebook/ml4dc/ok_files/SingleMuon/crab_SingleMuonRun_2016D-18Apr2017-v1/170808_214916/0000/AODTree_1.npy/276326/3',\n",
       "       '/home/fedor/notebook/ml4dc/ok_files/SingleMuon/crab_SingleMuonRun_2016D-18Apr2017-v1/170808_214916/0000/AODTree_560.npy/276655/726',\n",
       "       '/home/fedor/notebook/ml4dc/ok_files/SingleMuon/crab_SingleMuonRun_2016D-18Apr2017-v1/170808_214916/0000/AODTree_571.npy/276659/141',\n",
       "       '/home/fedor/notebook/ml4dc/ok_files/SingleMuon/crab_SingleMuonRun_2016D-18Apr2017-v1/170808_214916/0000/AODTree_594.npy/276775/1252',\n",
       "       '/home/fedor/notebook/ml4dc/ok_files/SingleMuon/crab_SingleMuonRun_2016G-18Apr2017-v1/170808_214948/0000/AODTree_119.npy/280021/1',\n",
       "       '/home/fedor/notebook/ml4dc/ok_files/SingleMuon/crab_SingleMuonRun_2016G-18Apr2017-v1/170808_214948/0000/AODTree_119.npy/280021/2',\n",
       "       '/home/fedor/notebook/ml4dc/ok_files/SingleMuon/crab_SingleMuonRun_2016G-18Apr2017-v1/170808_214948/0000/AODTree_119.npy/280022/1',\n",
       "       '/home/fedor/notebook/ml4dc/ok_files/SingleMuon/crab_SingleMuonRun_2016G-18Apr2017-v1/170808_214948/0000/AODTree_28.npy/280327/49',\n",
       "       '/home/fedor/notebook/ml4dc/ok_files/SingleMuon/crab_SingleMuonRun_2016G-18Apr2017-v1/170808_214948/0000/AODTree_301.npy/279480/1',\n",
       "       '/home/fedor/notebook/ml4dc/ok_files/SingleMuon/crab_SingleMuonRun_2016G-18Apr2017-v1/170808_214948/0000/AODTree_301.npy/279480/4',\n",
       "       '/home/fedor/notebook/ml4dc/ok_files/SingleMuon/crab_SingleMuonRun_2016G-18Apr2017-v1/170808_214948/0000/AODTree_301.npy/279480/5',\n",
       "       '/home/fedor/notebook/ml4dc/ok_files/SingleMuon/crab_SingleMuonRun_2016G-18Apr2017-v1/170808_214948/0000/AODTree_301.npy/279480/6',\n",
       "       '/home/fedor/notebook/ml4dc/ok_files/SingleMuon/crab_SingleMuonRun_2016G-18Apr2017-v1/170808_214948/0000/AODTree_301.npy/279480/7',\n",
       "       '/home/fedor/notebook/ml4dc/ok_files/SingleMuon/crab_SingleMuonRun_2016G-18Apr2017-v1/170808_214948/0000/AODTree_302.npy/279488/29',\n",
       "       '/home/fedor/notebook/ml4dc/ok_files/SingleMuon/crab_SingleMuonRun_2016G-18Apr2017-v1/170808_214948/0000/AODTree_60.npy/278821/36',\n",
       "       '/home/fedor/notebook/ml4dc/ok_files/SingleMuon/crab_SingleMuonRun_2016G-18Apr2017-v1/170808_214948/0000/AODTree_60.npy/278821/37',\n",
       "       '/home/fedor/notebook/ml4dc/ok_files/SingleMuon/crab_SingleMuonRun_2016G-18Apr2017-v1/170808_214948/0000/AODTree_626.npy/280019/1',\n",
       "       '/home/fedor/notebook/ml4dc/ok_files/SingleMuon/crab_SingleMuonRun_2016G-18Apr2017-v1/170808_214948/0000/AODTree_666.npy/280189/1',\n",
       "       '/home/fedor/notebook/ml4dc/ok_files/SingleMuon/crab_SingleMuonRun_2016G-18Apr2017-v1/170808_214948/0000/AODTree_999.npy/280349/626',\n",
       "       '/home/fedor/notebook/ml4dc/ok_files/SingleMuon/crab_SingleMuonRun_2016H-18Apr2017-v1/170808_215001/0000/AODTree_144.npy/282923/38',\n",
       "       '/home/fedor/notebook/ml4dc/ok_files/SingleMuon/crab_SingleMuonRun_2016H-18Apr2017-v1/170808_215001/0000/AODTree_144.npy/282923/39',\n",
       "       '/home/fedor/notebook/ml4dc/ok_files/SingleMuon/crab_SingleMuonRun_2016H-18Apr2017-v1/170808_215001/0000/AODTree_2.npy/281613/101',\n",
       "       '/home/fedor/notebook/ml4dc/ok_files/SingleMuon/crab_SingleMuonRun_2016H-18Apr2017-v1/170808_215001/0000/AODTree_2.npy/281613/117',\n",
       "       '/home/fedor/notebook/ml4dc/ok_files/SingleMuon/crab_SingleMuonRun_2016H-18Apr2017-v1/170808_215001/0000/AODTree_2.npy/281613/118',\n",
       "       '/home/fedor/notebook/ml4dc/ok_files/SingleMuon/crab_SingleMuonRun_2016H-18Apr2017-v1/170808_215001/0000/AODTree_3.npy/281613/121',\n",
       "       '/home/fedor/notebook/ml4dc/ok_files/SingleMuon/crab_SingleMuonRun_2016H-18Apr2017-v1/170808_215001/0000/AODTree_3.npy/281613/122',\n",
       "       '/home/fedor/notebook/ml4dc/ok_files/SingleMuon/crab_SingleMuonRun_2016H-18Apr2017-v1/170808_215001/0000/AODTree_3.npy/281613/123',\n",
       "       '/home/fedor/notebook/ml4dc/ok_files/SingleMuon/crab_SingleMuonRun_2016H-18Apr2017-v1/170808_215001/0000/AODTree_3.npy/281613/126',\n",
       "       '/home/fedor/notebook/ml4dc/ok_files/SingleMuon/crab_SingleMuonRun_2016H-18Apr2017-v1/170808_215001/0000/AODTree_3.npy/281613/128',\n",
       "       '/home/fedor/notebook/ml4dc/ok_files/SingleMuon/crab_SingleMuonRun_2016H-18Apr2017-v1/170808_215001/0000/AODTree_3.npy/281613/130',\n",
       "       '/home/fedor/notebook/ml4dc/ok_files/SingleMuon/crab_SingleMuonRun_2016H-18Apr2017-v1/170808_215001/0000/AODTree_3.npy/281613/133',\n",
       "       '/home/fedor/notebook/ml4dc/ok_files/SingleMuon/crab_SingleMuonRun_2016H-18Apr2017-v1/170808_215001/0000/AODTree_3.npy/281613/135',\n",
       "       '/home/fedor/notebook/ml4dc/ok_files/SingleMuon/crab_SingleMuonRun_2016H-18Apr2017-v1/170808_215001/0000/AODTree_3.npy/281613/136',\n",
       "       '/home/fedor/notebook/ml4dc/ok_files/SingleMuon/crab_SingleMuonRun_2016H-18Apr2017-v1/170808_215001/0000/AODTree_3.npy/281613/137',\n",
       "       '/home/fedor/notebook/ml4dc/ok_files/SingleMuon/crab_SingleMuonRun_2016H-18Apr2017-v1/170808_215001/0000/AODTree_363.npy/283408/79',\n",
       "       '/home/fedor/notebook/ml4dc/ok_files/SingleMuon/crab_SingleMuonRun_2016H-18Apr2017-v1/170808_215001/0000/AODTree_45.npy/281663/170',\n",
       "       '/home/fedor/notebook/ml4dc/ok_files/SingleMuon/crab_SingleMuonRun_2016H-18Apr2017-v1/170808_215001/0000/AODTree_45.npy/281663/171',\n",
       "       '/home/fedor/notebook/ml4dc/ok_files/SingleMuon/crab_SingleMuonRun_2016H-18Apr2017-v1/170808_215001/0000/AODTree_45.npy/281663/64',\n",
       "       '/home/fedor/notebook/ml4dc/ok_files/SingleMuon/crab_SingleMuonRun_2016H-18Apr2017-v1/170808_215001/0000/AODTree_45.npy/281663/65',\n",
       "       '/home/fedor/notebook/ml4dc/ok_files/SingleMuon/crab_SingleMuonRun_2016H-18Apr2017-v1/170808_215001/0000/AODTree_45.npy/281663/66',\n",
       "       '/home/fedor/notebook/ml4dc/ok_files/SingleMuon/crab_SingleMuonRun_2016H-18Apr2017-v1/170808_215001/0000/AODTree_45.npy/281663/67',\n",
       "       '/home/fedor/notebook/ml4dc/ok_files/SingleMuon/crab_SingleMuonRun_2016H-18Apr2017-v1/170808_215001/0000/AODTree_45.npy/281663/68',\n",
       "       '/home/fedor/notebook/ml4dc/ok_files/SingleMuon/crab_SingleMuonRun_2016H-18Apr2017-v1/170808_215001/0000/AODTree_45.npy/281663/69',\n",
       "       '/home/fedor/notebook/ml4dc/ok_files/SingleMuon/crab_SingleMuonRun_2016H-18Apr2017-v1/170808_215001/0000/AODTree_45.npy/281663/70',\n",
       "       '/home/fedor/notebook/ml4dc/ok_files/SingleMuon/crab_SingleMuonRun_2016H-18Apr2017-v1/170808_215001/0000/AODTree_45.npy/281663/71',\n",
       "       '/home/fedor/notebook/ml4dc/ok_files/SingleMuon/crab_SingleMuonRun_2016H-18Apr2017-v1/170808_215001/0000/AODTree_45.npy/281663/72',\n",
       "       '/home/fedor/notebook/ml4dc/ok_files/SingleMuon/crab_SingleMuonRun_2016H-18Apr2017-v1/170808_215001/0000/AODTree_45.npy/281663/73',\n",
       "       '/home/fedor/notebook/ml4dc/ok_files/SingleMuon/crab_SingleMuonRun_2016H-18Apr2017-v1/170808_215001/0000/AODTree_45.npy/281663/74',\n",
       "       '/home/fedor/notebook/ml4dc/ok_files/SingleMuon/crab_SingleMuonRun_2016H-18Apr2017-v1/170808_215001/0000/AODTree_45.npy/281663/75',\n",
       "       '/home/fedor/notebook/ml4dc/ok_files/SingleMuon/crab_SingleMuonRun_2016H-18Apr2017-v1/170808_215001/0000/AODTree_45.npy/281663/76',\n",
       "       '/home/fedor/notebook/ml4dc/ok_files/SingleMuon/crab_SingleMuonRun_2016H-18Apr2017-v1/170808_215001/0000/AODTree_46.npy/281663/100',\n",
       "       '/home/fedor/notebook/ml4dc/ok_files/SingleMuon/crab_SingleMuonRun_2016H-18Apr2017-v1/170808_215001/0000/AODTree_46.npy/281663/101',\n",
       "       '/home/fedor/notebook/ml4dc/ok_files/SingleMuon/crab_SingleMuonRun_2016H-18Apr2017-v1/170808_215001/0000/AODTree_46.npy/281663/102',\n",
       "       '/home/fedor/notebook/ml4dc/ok_files/SingleMuon/crab_SingleMuonRun_2016H-18Apr2017-v1/170808_215001/0000/AODTree_46.npy/281663/79',\n",
       "       '/home/fedor/notebook/ml4dc/ok_files/SingleMuon/crab_SingleMuonRun_2016H-18Apr2017-v1/170808_215001/0000/AODTree_46.npy/281663/80',\n",
       "       '/home/fedor/notebook/ml4dc/ok_files/SingleMuon/crab_SingleMuonRun_2016H-18Apr2017-v1/170808_215001/0000/AODTree_46.npy/281663/81',\n",
       "       '/home/fedor/notebook/ml4dc/ok_files/SingleMuon/crab_SingleMuonRun_2016H-18Apr2017-v1/170808_215001/0000/AODTree_46.npy/281663/83',\n",
       "       '/home/fedor/notebook/ml4dc/ok_files/SingleMuon/crab_SingleMuonRun_2016H-18Apr2017-v1/170808_215001/0000/AODTree_46.npy/281663/84',\n",
       "       '/home/fedor/notebook/ml4dc/ok_files/SingleMuon/crab_SingleMuonRun_2016H-18Apr2017-v1/170808_215001/0000/AODTree_46.npy/281663/85',\n",
       "       '/home/fedor/notebook/ml4dc/ok_files/SingleMuon/crab_SingleMuonRun_2016H-18Apr2017-v1/170808_215001/0000/AODTree_46.npy/281663/86',\n",
       "       '/home/fedor/notebook/ml4dc/ok_files/SingleMuon/crab_SingleMuonRun_2016H-18Apr2017-v1/170808_215001/0000/AODTree_46.npy/281663/87',\n",
       "       '/home/fedor/notebook/ml4dc/ok_files/SingleMuon/crab_SingleMuonRun_2016H-18Apr2017-v1/170808_215001/0000/AODTree_46.npy/281663/89',\n",
       "       '/home/fedor/notebook/ml4dc/ok_files/SingleMuon/crab_SingleMuonRun_2016H-18Apr2017-v1/170808_215001/0000/AODTree_46.npy/281663/90',\n",
       "       '/home/fedor/notebook/ml4dc/ok_files/SingleMuon/crab_SingleMuonRun_2016H-18Apr2017-v1/170808_215001/0000/AODTree_46.npy/281663/91',\n",
       "       '/home/fedor/notebook/ml4dc/ok_files/SingleMuon/crab_SingleMuonRun_2016H-18Apr2017-v1/170808_215001/0000/AODTree_46.npy/281663/92',\n",
       "       '/home/fedor/notebook/ml4dc/ok_files/SingleMuon/crab_SingleMuonRun_2016H-18Apr2017-v1/170808_215001/0000/AODTree_46.npy/281663/94',\n",
       "       '/home/fedor/notebook/ml4dc/ok_files/SingleMuon/crab_SingleMuonRun_2016H-18Apr2017-v1/170808_215001/0000/AODTree_46.npy/281663/95',\n",
       "       '/home/fedor/notebook/ml4dc/ok_files/SingleMuon/crab_SingleMuonRun_2016H-18Apr2017-v1/170808_215001/0000/AODTree_46.npy/281663/98',\n",
       "       '/home/fedor/notebook/ml4dc/ok_files/SingleMuon/crab_SingleMuonRun_2016H-18Apr2017-v1/170808_215001/0000/AODTree_46.npy/281663/99',\n",
       "       '/home/fedor/notebook/ml4dc/ok_files/SingleMuon/crab_SingleMuonRun_2016H-18Apr2017-v1/170808_215001/0000/AODTree_46.npy/281674/1',\n",
       "       '/home/fedor/notebook/ml4dc/ok_files/SingleMuon/crab_SingleMuonRun_2016H-18Apr2017-v1/170808_215001/0000/AODTree_46.npy/281674/11',\n",
       "       '/home/fedor/notebook/ml4dc/ok_files/SingleMuon/crab_SingleMuonRun_2016H-18Apr2017-v1/170808_215001/0000/AODTree_46.npy/281674/12',\n",
       "       '/home/fedor/notebook/ml4dc/ok_files/SingleMuon/crab_SingleMuonRun_2016H-18Apr2017-v1/170808_215001/0000/AODTree_46.npy/281674/13',\n",
       "       '/home/fedor/notebook/ml4dc/ok_files/SingleMuon/crab_SingleMuonRun_2016H-18Apr2017-v1/170808_215001/0000/AODTree_46.npy/281674/14',\n",
       "       '/home/fedor/notebook/ml4dc/ok_files/SingleMuon/crab_SingleMuonRun_2016H-18Apr2017-v1/170808_215001/0000/AODTree_46.npy/281674/15',\n",
       "       '/home/fedor/notebook/ml4dc/ok_files/SingleMuon/crab_SingleMuonRun_2016H-18Apr2017-v1/170808_215001/0000/AODTree_46.npy/281674/16',\n",
       "       '/home/fedor/notebook/ml4dc/ok_files/SingleMuon/crab_SingleMuonRun_2016H-18Apr2017-v1/170808_215001/0000/AODTree_46.npy/281674/17',\n",
       "       '/home/fedor/notebook/ml4dc/ok_files/SingleMuon/crab_SingleMuonRun_2016H-18Apr2017-v1/170808_215001/0000/AODTree_46.npy/281674/18',\n",
       "       '/home/fedor/notebook/ml4dc/ok_files/SingleMuon/crab_SingleMuonRun_2016H-18Apr2017-v1/170808_215001/0000/AODTree_46.npy/281674/19',\n",
       "       '/home/fedor/notebook/ml4dc/ok_files/SingleMuon/crab_SingleMuonRun_2016H-18Apr2017-v1/170808_215001/0000/AODTree_46.npy/281674/2',\n",
       "       '/home/fedor/notebook/ml4dc/ok_files/SingleMuon/crab_SingleMuonRun_2016H-18Apr2017-v1/170808_215001/0000/AODTree_46.npy/281674/20',\n",
       "       '/home/fedor/notebook/ml4dc/ok_files/SingleMuon/crab_SingleMuonRun_2016H-18Apr2017-v1/170808_215001/0000/AODTree_46.npy/281674/3',\n",
       "       '/home/fedor/notebook/ml4dc/ok_files/SingleMuon/crab_SingleMuonRun_2016H-18Apr2017-v1/170808_215001/0000/AODTree_46.npy/281674/4',\n",
       "       '/home/fedor/notebook/ml4dc/ok_files/SingleMuon/crab_SingleMuonRun_2016H-18Apr2017-v1/170808_215001/0000/AODTree_46.npy/281674/7',\n",
       "       '/home/fedor/notebook/ml4dc/ok_files/SingleMuon/crab_SingleMuonRun_2016H-18Apr2017-v1/170808_215001/0000/AODTree_46.npy/281674/9',\n",
       "       '/home/fedor/notebook/ml4dc/ok_files/SingleMuon/crab_SingleMuonRun_2016H-18Apr2017-v1/170808_215001/0000/AODTree_47.npy/281674/21',\n",
       "       '/home/fedor/notebook/ml4dc/ok_files/SingleMuon/crab_SingleMuonRun_2016H-18Apr2017-v1/170808_215001/0000/AODTree_47.npy/281674/23',\n",
       "       '/home/fedor/notebook/ml4dc/ok_files/SingleMuon/crab_SingleMuonRun_2016H-18Apr2017-v1/170808_215001/0000/AODTree_47.npy/281674/24',\n",
       "       '/home/fedor/notebook/ml4dc/ok_files/SingleMuon/crab_SingleMuonRun_2016H-18Apr2017-v1/170808_215001/0000/AODTree_47.npy/281674/26',\n",
       "       '/home/fedor/notebook/ml4dc/ok_files/SingleMuon/crab_SingleMuonRun_2016H-18Apr2017-v1/170808_215001/0000/AODTree_47.npy/281674/28',\n",
       "       '/home/fedor/notebook/ml4dc/ok_files/SingleMuon/crab_SingleMuonRun_2016H-18Apr2017-v1/170808_215001/0000/AODTree_47.npy/281674/29',\n",
       "       '/home/fedor/notebook/ml4dc/ok_files/SingleMuon/crab_SingleMuonRun_2016H-18Apr2017-v1/170808_215001/0000/AODTree_47.npy/281674/30',\n",
       "       '/home/fedor/notebook/ml4dc/ok_files/SingleMuon/crab_SingleMuonRun_2016H-18Apr2017-v1/170808_215001/0000/AODTree_47.npy/281674/33',\n",
       "       '/home/fedor/notebook/ml4dc/ok_files/SingleMuon/crab_SingleMuonRun_2016H-18Apr2017-v1/170808_215001/0000/AODTree_47.npy/281674/35',\n",
       "       '/home/fedor/notebook/ml4dc/ok_files/SingleMuon/crab_SingleMuonRun_2016H-18Apr2017-v1/170808_215001/0000/AODTree_47.npy/281674/36',\n",
       "       '/home/fedor/notebook/ml4dc/ok_files/SingleMuon/crab_SingleMuonRun_2016H-18Apr2017-v1/170808_215001/0000/AODTree_47.npy/281674/37',\n",
       "       '/home/fedor/notebook/ml4dc/ok_files/SingleMuon/crab_SingleMuonRun_2016H-18Apr2017-v1/170808_215001/0000/AODTree_47.npy/281674/38',\n",
       "       '/home/fedor/notebook/ml4dc/ok_files/SingleMuon/crab_SingleMuonRun_2016H-18Apr2017-v1/170808_215001/0000/AODTree_47.npy/281674/41',\n",
       "       '/home/fedor/notebook/ml4dc/ok_files/SingleMuon/crab_SingleMuonRun_2016H-18Apr2017-v1/170808_215001/0000/AODTree_47.npy/281674/42',\n",
       "       '/home/fedor/notebook/ml4dc/ok_files/SingleMuon/crab_SingleMuonRun_2016H-18Apr2017-v1/170808_215001/0000/AODTree_47.npy/281674/43',\n",
       "       '/home/fedor/notebook/ml4dc/ok_files/SingleMuon/crab_SingleMuonRun_2016H-18Apr2017-v1/170808_215001/0000/AODTree_47.npy/281674/44',\n",
       "       '/home/fedor/notebook/ml4dc/ok_files/SingleMuon/crab_SingleMuonRun_2016H-18Apr2017-v1/170808_215001/0000/AODTree_47.npy/281674/45',\n",
       "       '/home/fedor/notebook/ml4dc/ok_files/SingleMuon/crab_SingleMuonRun_2016H-18Apr2017-v1/170808_215001/0000/AODTree_47.npy/281680/1',\n",
       "       '/home/fedor/notebook/ml4dc/ok_files/SingleMuon/crab_SingleMuonRun_2016H-18Apr2017-v1/170808_215001/0000/AODTree_47.npy/281680/10',\n",
       "       '/home/fedor/notebook/ml4dc/ok_files/SingleMuon/crab_SingleMuonRun_2016H-18Apr2017-v1/170808_215001/0000/AODTree_47.npy/281680/11',\n",
       "       '/home/fedor/notebook/ml4dc/ok_files/SingleMuon/crab_SingleMuonRun_2016H-18Apr2017-v1/170808_215001/0000/AODTree_47.npy/281680/12',\n",
       "       '/home/fedor/notebook/ml4dc/ok_files/SingleMuon/crab_SingleMuonRun_2016H-18Apr2017-v1/170808_215001/0000/AODTree_47.npy/281680/13',\n",
       "       '/home/fedor/notebook/ml4dc/ok_files/SingleMuon/crab_SingleMuonRun_2016H-18Apr2017-v1/170808_215001/0000/AODTree_47.npy/281680/14',\n",
       "       '/home/fedor/notebook/ml4dc/ok_files/SingleMuon/crab_SingleMuonRun_2016H-18Apr2017-v1/170808_215001/0000/AODTree_47.npy/281680/15',\n",
       "       '/home/fedor/notebook/ml4dc/ok_files/SingleMuon/crab_SingleMuonRun_2016H-18Apr2017-v1/170808_215001/0000/AODTree_47.npy/281680/16',\n",
       "       '/home/fedor/notebook/ml4dc/ok_files/SingleMuon/crab_SingleMuonRun_2016H-18Apr2017-v1/170808_215001/0000/AODTree_47.npy/281680/17',\n",
       "       '/home/fedor/notebook/ml4dc/ok_files/SingleMuon/crab_SingleMuonRun_2016H-18Apr2017-v1/170808_215001/0000/AODTree_47.npy/281680/18',\n",
       "       '/home/fedor/notebook/ml4dc/ok_files/SingleMuon/crab_SingleMuonRun_2016H-18Apr2017-v1/170808_215001/0000/AODTree_47.npy/281680/19',\n",
       "       '/home/fedor/notebook/ml4dc/ok_files/SingleMuon/crab_SingleMuonRun_2016H-18Apr2017-v1/170808_215001/0000/AODTree_47.npy/281680/2',\n",
       "       '/home/fedor/notebook/ml4dc/ok_files/SingleMuon/crab_SingleMuonRun_2016H-18Apr2017-v1/170808_215001/0000/AODTree_47.npy/281680/20',\n",
       "       '/home/fedor/notebook/ml4dc/ok_files/SingleMuon/crab_SingleMuonRun_2016H-18Apr2017-v1/170808_215001/0000/AODTree_47.npy/281680/21',\n",
       "       '/home/fedor/notebook/ml4dc/ok_files/SingleMuon/crab_SingleMuonRun_2016H-18Apr2017-v1/170808_215001/0000/AODTree_47.npy/281680/22',\n",
       "       '/home/fedor/notebook/ml4dc/ok_files/SingleMuon/crab_SingleMuonRun_2016H-18Apr2017-v1/170808_215001/0000/AODTree_47.npy/281680/3',\n",
       "       '/home/fedor/notebook/ml4dc/ok_files/SingleMuon/crab_SingleMuonRun_2016H-18Apr2017-v1/170808_215001/0000/AODTree_47.npy/281680/4',\n",
       "       '/home/fedor/notebook/ml4dc/ok_files/SingleMuon/crab_SingleMuonRun_2016H-18Apr2017-v1/170808_215001/0000/AODTree_47.npy/281680/5',\n",
       "       '/home/fedor/notebook/ml4dc/ok_files/SingleMuon/crab_SingleMuonRun_2016H-18Apr2017-v1/170808_215001/0000/AODTree_47.npy/281680/7',\n",
       "       '/home/fedor/notebook/ml4dc/ok_files/SingleMuon/crab_SingleMuonRun_2016H-18Apr2017-v1/170808_215001/0000/AODTree_47.npy/281680/8',\n",
       "       '/home/fedor/notebook/ml4dc/ok_files/SingleMuon/crab_SingleMuonRun_2016H-18Apr2017-v1/170808_215001/0000/AODTree_47.npy/281680/9',\n",
       "       '/home/fedor/notebook/ml4dc/ok_files/SingleMuon/crab_SingleMuonRun_2016H-18Apr2017-v1/170808_215001/0000/AODTree_49.npy/281663/105',\n",
       "       '/home/fedor/notebook/ml4dc/ok_files/SingleMuon/crab_SingleMuonRun_2016H-18Apr2017-v1/170808_215001/0000/AODTree_49.npy/281663/106',\n",
       "       '/home/fedor/notebook/ml4dc/ok_files/SingleMuon/crab_SingleMuonRun_2016H-18Apr2017-v1/170808_215001/0000/AODTree_49.npy/281663/107',\n",
       "       '/home/fedor/notebook/ml4dc/ok_files/SingleMuon/crab_SingleMuonRun_2016H-18Apr2017-v1/170808_215001/0000/AODTree_49.npy/281663/108',\n",
       "       '/home/fedor/notebook/ml4dc/ok_files/SingleMuon/crab_SingleMuonRun_2016H-18Apr2017-v1/170808_215001/0000/AODTree_49.npy/281663/110',\n",
       "       '/home/fedor/notebook/ml4dc/ok_files/SingleMuon/crab_SingleMuonRun_2016H-18Apr2017-v1/170808_215001/0000/AODTree_49.npy/281663/112',\n",
       "       '/home/fedor/notebook/ml4dc/ok_files/SingleMuon/crab_SingleMuonRun_2016H-18Apr2017-v1/170808_215001/0000/AODTree_49.npy/281663/113',\n",
       "       '/home/fedor/notebook/ml4dc/ok_files/SingleMuon/crab_SingleMuonRun_2016H-18Apr2017-v1/170808_215001/0000/AODTree_49.npy/281663/114',\n",
       "       '/home/fedor/notebook/ml4dc/ok_files/SingleMuon/crab_SingleMuonRun_2016H-18Apr2017-v1/170808_215001/0000/AODTree_49.npy/281663/115',\n",
       "       '/home/fedor/notebook/ml4dc/ok_files/SingleMuon/crab_SingleMuonRun_2016H-18Apr2017-v1/170808_215001/0000/AODTree_49.npy/281663/116',\n",
       "       '/home/fedor/notebook/ml4dc/ok_files/SingleMuon/crab_SingleMuonRun_2016H-18Apr2017-v1/170808_215001/0000/AODTree_49.npy/281663/118',\n",
       "       '/home/fedor/notebook/ml4dc/ok_files/SingleMuon/crab_SingleMuonRun_2016H-18Apr2017-v1/170808_215001/0000/AODTree_49.npy/281663/119',\n",
       "       '/home/fedor/notebook/ml4dc/ok_files/SingleMuon/crab_SingleMuonRun_2016H-18Apr2017-v1/170808_215001/0000/AODTree_49.npy/281663/120',\n",
       "       '/home/fedor/notebook/ml4dc/ok_files/SingleMuon/crab_SingleMuonRun_2016H-18Apr2017-v1/170808_215001/0000/AODTree_49.npy/281663/121',\n",
       "       '/home/fedor/notebook/ml4dc/ok_files/SingleMuon/crab_SingleMuonRun_2016H-18Apr2017-v1/170808_215001/0000/AODTree_49.npy/281663/122',\n",
       "       '/home/fedor/notebook/ml4dc/ok_files/SingleMuon/crab_SingleMuonRun_2016H-18Apr2017-v1/170808_215001/0000/AODTree_49.npy/281663/123',\n",
       "       '/home/fedor/notebook/ml4dc/ok_files/SingleMuon/crab_SingleMuonRun_2016H-18Apr2017-v1/170808_215001/0000/AODTree_49.npy/281663/124',\n",
       "       '/home/fedor/notebook/ml4dc/ok_files/SingleMuon/crab_SingleMuonRun_2016H-18Apr2017-v1/170808_215001/0000/AODTree_49.npy/281663/125',\n",
       "       '/home/fedor/notebook/ml4dc/ok_files/SingleMuon/crab_SingleMuonRun_2016H-18Apr2017-v1/170808_215001/0000/AODTree_49.npy/281663/126',\n",
       "       '/home/fedor/notebook/ml4dc/ok_files/SingleMuon/crab_SingleMuonRun_2016H-18Apr2017-v1/170808_215001/0000/AODTree_49.npy/281663/127',\n",
       "       '/home/fedor/notebook/ml4dc/ok_files/SingleMuon/crab_SingleMuonRun_2016H-18Apr2017-v1/170808_215001/0000/AODTree_49.npy/281663/156',\n",
       "       '/home/fedor/notebook/ml4dc/ok_files/SingleMuon/crab_SingleMuonRun_2016H-18Apr2017-v1/170808_215001/0000/AODTree_49.npy/281663/157',\n",
       "       '/home/fedor/notebook/ml4dc/ok_files/SingleMuon/crab_SingleMuonRun_2016H-18Apr2017-v1/170808_215001/0000/AODTree_49.npy/281663/158',\n",
       "       '/home/fedor/notebook/ml4dc/ok_files/SingleMuon/crab_SingleMuonRun_2016H-18Apr2017-v1/170808_215001/0000/AODTree_49.npy/281663/159',\n",
       "       '/home/fedor/notebook/ml4dc/ok_files/SingleMuon/crab_SingleMuonRun_2016H-18Apr2017-v1/170808_215001/0000/AODTree_49.npy/281663/160',\n",
       "       '/home/fedor/notebook/ml4dc/ok_files/SingleMuon/crab_SingleMuonRun_2016H-18Apr2017-v1/170808_215001/0000/AODTree_49.npy/281663/161',\n",
       "       '/home/fedor/notebook/ml4dc/ok_files/SingleMuon/crab_SingleMuonRun_2016H-18Apr2017-v1/170808_215001/0000/AODTree_49.npy/281663/162',\n",
       "       '/home/fedor/notebook/ml4dc/ok_files/SingleMuon/crab_SingleMuonRun_2016H-18Apr2017-v1/170808_215001/0000/AODTree_49.npy/281663/163',\n",
       "       '/home/fedor/notebook/ml4dc/ok_files/SingleMuon/crab_SingleMuonRun_2016H-18Apr2017-v1/170808_215001/0000/AODTree_49.npy/281663/164',\n",
       "       '/home/fedor/notebook/ml4dc/ok_files/SingleMuon/crab_SingleMuonRun_2016H-18Apr2017-v1/170808_215001/0000/AODTree_49.npy/281663/165',\n",
       "       '/home/fedor/notebook/ml4dc/ok_files/SingleMuon/crab_SingleMuonRun_2016H-18Apr2017-v1/170808_215001/0000/AODTree_49.npy/281663/166',\n",
       "       '/home/fedor/notebook/ml4dc/ok_files/SingleMuon/crab_SingleMuonRun_2016H-18Apr2017-v1/170808_215001/0000/AODTree_49.npy/281663/168',\n",
       "       '/home/fedor/notebook/ml4dc/ok_files/SingleMuon/crab_SingleMuonRun_2016H-18Apr2017-v1/170808_215001/0000/AODTree_6.npy/281613/256',\n",
       "       '/home/fedor/notebook/ml4dc/ok_files/SingleMuon/crab_SingleMuonRun_2016H-18Apr2017-v1/170808_215001/0000/AODTree_639.npy/283059/127',\n",
       "       '/home/fedor/notebook/ml4dc/ok_files/SingleMuon/crab_SingleMuonRun_2016H-18Apr2017-v1/170808_215001/0000/AODTree_639.npy/283059/128',\n",
       "       '/home/fedor/notebook/ml4dc/ok_files/SingleMuon/crab_SingleMuonRun_2016H-18Apr2017-v1/170808_215001/0000/AODTree_68.npy/282707/81',\n",
       "       '/home/fedor/notebook/ml4dc/ok_files/SingleMuon/crab_SingleMuonRun_2016H-18Apr2017-v1/170808_215001/0000/AODTree_68.npy/282710/8',\n",
       "       '/home/fedor/notebook/ml4dc/ok_files/SingleMuon/crab_SingleMuonRun_2016H-18Apr2017-v1/170808_215001/0000/AODTree_68.npy/282711/1',\n",
       "       '/home/fedor/notebook/ml4dc/ok_files/SingleMuon/crab_SingleMuonRun_2016H-18Apr2017-v1/170808_215001/0000/AODTree_7.npy/281613/250',\n",
       "       '/home/fedor/notebook/ml4dc/ok_files/SingleMuon/crab_SingleMuonRun_2016H-18Apr2017-v1/170808_215001/0000/AODTree_7.npy/281613/251',\n",
       "       '/home/fedor/notebook/ml4dc/ok_files/SingleMuon/crab_SingleMuonRun_2016H-18Apr2017-v1/170808_215001/0000/AODTree_7.npy/281613/253',\n",
       "       '/home/fedor/notebook/ml4dc/ok_files/SingleMuon/crab_SingleMuonRun_2016H-18Apr2017-v1/170808_215001/0000/AODTree_7.npy/281613/255',\n",
       "       '/home/fedor/notebook/ml4dc/ok_files/SingleMuon/crab_SingleMuonRun_2016H-18Apr2017-v1/170808_215001/0000/AODTree_7.npy/281613/258',\n",
       "       '/home/fedor/notebook/ml4dc/ok_files/SingleMuon/crab_SingleMuonRun_2016H-18Apr2017-v1/170808_215001/0000/AODTree_7.npy/281613/259',\n",
       "       '/home/fedor/notebook/ml4dc/ok_files/SingleMuon/crab_SingleMuonRun_2016H-18Apr2017-v1/170808_215001/0000/AODTree_7.npy/281613/260',\n",
       "       '/home/fedor/notebook/ml4dc/ok_files/SingleMuon/crab_SingleMuonRun_2016H-18Apr2017-v1/170808_215001/0000/AODTree_726.npy/283675/11',\n",
       "       '/home/fedor/notebook/ml4dc/ok_files/SingleMuon/crab_SingleMuonRun_2016H-18Apr2017-v1/170808_215001/0000/AODTree_726.npy/283675/12',\n",
       "       '/home/fedor/notebook/ml4dc/ok_files/SingleMuon/crab_SingleMuonRun_2016H-18Apr2017-v1/170808_215001/0000/AODTree_726.npy/283675/7',\n",
       "       '/home/fedor/notebook/ml4dc/ok_files/SingleMuon/crab_SingleMuonRun_2016H-18Apr2017-v1/170808_215001/0000/AODTree_726.npy/283676/2',\n",
       "       '/home/fedor/notebook/ml4dc/ok_files/SingleMuon/crab_SingleMuonRun_2016H-18Apr2017-v1/170808_215001/0000/AODTree_759.npy/283413/1',\n",
       "       '/home/fedor/notebook/ml4dc/ok_files/SingleMuon/crab_SingleMuonRun_2016H-18Apr2017-v1/170808_215001/0000/AODTree_760.npy/283413/5',\n",
       "       '/home/fedor/notebook/ml4dc/ok_files/SingleMuon/crab_SingleMuonRun_2016H-18Apr2017-v1/170808_215001/0000/AODTree_760.npy/283415/4',\n",
       "       '/home/fedor/notebook/ml4dc/ok_files/SingleMuon/crab_SingleMuonRun_2016H-18Apr2017-v1/170808_215001/0000/AODTree_760.npy/283415/5',\n",
       "       '/home/fedor/notebook/ml4dc/ok_files/SingleMuon/crab_SingleMuonRun_2016H-18Apr2017-v1/170808_215001/0000/AODTree_829.npy/283408/2533',\n",
       "       '/home/fedor/notebook/ml4dc/ok_files/SingleMuon/crab_SingleMuonRun_2016H-18Apr2017-v1/170808_215001/0000/AODTree_829.npy/283408/2535',\n",
       "       '/home/fedor/notebook/ml4dc/ok_files/SingleMuon/crab_SingleMuonRun_2016H-18Apr2017-v1/170808_215001/0000/AODTree_868.npy/283416/4',\n",
       "       '/home/fedor/notebook/ml4dc/ok_files/SingleMuon/crab_SingleMuonRun_2016H-18Apr2017-v1/170808_215001/0000/AODTree_868.npy/283416/7',\n",
       "       '/home/fedor/notebook/ml4dc/ok_files/SingleMuon/crab_SingleMuonRun_2016H-18Apr2017-v1/170808_215001/0000/AODTree_869.npy/283416/29',\n",
       "       '/home/fedor/notebook/ml4dc/ok_files/SingleMuon/crab_SingleMuonRun_2016H-18Apr2017-v1/170808_215001/0000/AODTree_869.npy/283416/31',\n",
       "       '/home/fedor/notebook/ml4dc/ok_files/SingleMuon/crab_SingleMuonRun_2016H-18Apr2017-v1/170808_215001/0000/AODTree_869.npy/283416/32',\n",
       "       '/home/fedor/notebook/ml4dc/ok_files/SingleMuon/crab_SingleMuonRun_2016H-18Apr2017-v1/170808_215001/0000/AODTree_869.npy/283416/8'],\n",
       "      dtype='|S131')"
      ]
     },
     "execution_count": 18,
     "metadata": {},
     "output_type": "execute_result"
    }
   ],
   "source": [
    "np.unique(name_m)"
   ]
  },
  {
   "cell_type": "code",
   "execution_count": 57,
   "metadata": {
    "collapsed": false
   },
   "outputs": [],
   "source": [
    "file_name_m = '/home/fedor/notebook/ml4dc/ok_files/muon_df.pickle'\n",
    "result_m.to_pickle(file_name_m)\n",
    "#result_m = pd.read_pickle(file_name_m)"
   ]
  },
  {
   "cell_type": "code",
   "execution_count": 20,
   "metadata": {
    "collapsed": false
   },
   "outputs": [
    {
     "data": {
      "text/plain": [
       "0.9593056910182299"
      ]
     },
     "execution_count": 20,
     "metadata": {},
     "output_type": "execute_result"
    }
   ],
   "source": [
    "np.mean(result_m[\"isSig\"])"
   ]
  },
  {
   "cell_type": "code",
   "execution_count": 21,
   "metadata": {
    "collapsed": false
   },
   "outputs": [
    {
     "data": {
      "text/plain": [
       "(126111, 216)"
      ]
     },
     "execution_count": 21,
     "metadata": {},
     "output_type": "execute_result"
    }
   ],
   "source": [
    "result_m.shape"
   ]
  },
  {
   "cell_type": "code",
   "execution_count": 22,
   "metadata": {
    "collapsed": false
   },
   "outputs": [
    {
     "data": {
      "text/plain": [
       "(125924, 216)"
      ]
     },
     "execution_count": 22,
     "metadata": {},
     "output_type": "execute_result"
    }
   ],
   "source": [
    "result_m.dropna(axis=0, how='any').shape"
   ]
  },
  {
   "cell_type": "markdown",
   "metadata": {},
   "source": [
    "## Photon"
   ]
  },
  {
   "cell_type": "code",
   "execution_count": 23,
   "metadata": {
    "collapsed": true
   },
   "outputs": [],
   "source": [
    "Pho_features = [s for s in all_features if s[:4] == 'qPho']"
   ]
  },
  {
   "cell_type": "code",
   "execution_count": 24,
   "metadata": {
    "collapsed": true
   },
   "outputs": [],
   "source": [
    "Pho_features = Pho_features[:-10]"
   ]
  },
  {
   "cell_type": "code",
   "execution_count": 25,
   "metadata": {
    "collapsed": false
   },
   "outputs": [
    {
     "data": {
      "text/plain": [
       "['qPho0Pt',\n",
       " 'qPho1Pt',\n",
       " 'qPho2Pt',\n",
       " 'qPho3Pt',\n",
       " 'qPho4Pt',\n",
       " 'qPho5Pt',\n",
       " 'qPho0Eta',\n",
       " 'qPho1Eta',\n",
       " 'qPho2Eta',\n",
       " 'qPho3Eta',\n",
       " 'qPho4Eta',\n",
       " 'qPho5Eta',\n",
       " 'qPho0Phi',\n",
       " 'qPho1Phi',\n",
       " 'qPho2Phi',\n",
       " 'qPho3Phi',\n",
       " 'qPho4Phi',\n",
       " 'qPho5Phi',\n",
       " 'qPho0En',\n",
       " 'qPho1En',\n",
       " 'qPho2En',\n",
       " 'qPho3En',\n",
       " 'qPho4En',\n",
       " 'qPho5En',\n",
       " 'qPhoPt',\n",
       " 'qPhoEta',\n",
       " 'qPhoPhi',\n",
       " 'qPhoEn_']"
      ]
     },
     "execution_count": 25,
     "metadata": {},
     "output_type": "execute_result"
    }
   ],
   "source": [
    "Pho_features"
   ]
  },
  {
   "cell_type": "code",
   "execution_count": 26,
   "metadata": {
    "collapsed": false
   },
   "outputs": [
    {
     "data": {
      "text/plain": [
       "28"
      ]
     },
     "execution_count": 26,
     "metadata": {},
     "output_type": "execute_result"
    }
   ],
   "source": [
    "len(Pho_features)"
   ]
  },
  {
   "cell_type": "code",
   "execution_count": 27,
   "metadata": {
    "collapsed": false
   },
   "outputs": [
    {
     "data": {
      "text/plain": [
       "216"
      ]
     },
     "execution_count": 27,
     "metadata": {},
     "output_type": "execute_result"
    }
   ],
   "source": [
    "20+(28*7)"
   ]
  },
  {
   "cell_type": "code",
   "execution_count": 28,
   "metadata": {
    "collapsed": false
   },
   "outputs": [
    {
     "name": "stderr",
     "output_type": "stream",
     "text": [
      "100%|██████████| 441/441 [00:45<00:00, 10.07it/s]\n",
      "100%|██████████| 245/245 [00:25<00:00,  9.76it/s]\n",
      "100%|██████████| 916/916 [01:47<00:00,  8.06it/s]\n",
      "100%|██████████| 80/80 [00:09<00:00,  8.21it/s]\n",
      "100%|██████████| 39/39 [00:04<00:00,  8.76it/s]\n"
     ]
    }
   ],
   "source": [
    "result_ph, num_ph, name_ph = get_channel_frame(working_paths[6:11], Pho_features)"
   ]
  },
  {
   "cell_type": "code",
   "execution_count": 58,
   "metadata": {
    "collapsed": false
   },
   "outputs": [],
   "source": [
    "file_name_ph = '/home/fedor/notebook/ml4dc/ok_files/Pho_df.pickle'\n",
    "result_ph.to_pickle(file_name_ph)\n",
    "#result_ph = pd.read_pickle(file_name)"
   ]
  },
  {
   "cell_type": "code",
   "execution_count": 30,
   "metadata": {
    "collapsed": false
   },
   "outputs": [
    {
     "data": {
      "text/plain": [
       "(68775, 216)"
      ]
     },
     "execution_count": 30,
     "metadata": {},
     "output_type": "execute_result"
    }
   ],
   "source": [
    "result_ph.shape"
   ]
  },
  {
   "cell_type": "code",
   "execution_count": 31,
   "metadata": {
    "collapsed": false
   },
   "outputs": [
    {
     "data": {
      "text/plain": [
       "(68691, 216)"
      ]
     },
     "execution_count": 31,
     "metadata": {},
     "output_type": "execute_result"
    }
   ],
   "source": [
    "result_ph.dropna(axis=0, how='any').shape"
   ]
  },
  {
   "cell_type": "code",
   "execution_count": 32,
   "metadata": {
    "collapsed": false
   },
   "outputs": [
    {
     "data": {
      "text/plain": [
       "0.9812141039621955"
      ]
     },
     "execution_count": 32,
     "metadata": {},
     "output_type": "execute_result"
    }
   ],
   "source": [
    "np.mean(result_ph[\"isSig\"])"
   ]
  },
  {
   "cell_type": "markdown",
   "metadata": {},
   "source": [
    "## Calo"
   ]
  },
  {
   "cell_type": "code",
   "execution_count": 33,
   "metadata": {
    "collapsed": true
   },
   "outputs": [],
   "source": [
    "Cal_features = [s for s in all_features if s[:4] == 'qCal']"
   ]
  },
  {
   "cell_type": "code",
   "execution_count": 34,
   "metadata": {
    "collapsed": false
   },
   "outputs": [
    {
     "data": {
      "text/plain": [
       "30"
      ]
     },
     "execution_count": 34,
     "metadata": {},
     "output_type": "execute_result"
    }
   ],
   "source": [
    "Cal_features = Cal_features[:-10]\n",
    "len(Cal_features)"
   ]
  },
  {
   "cell_type": "code",
   "execution_count": 35,
   "metadata": {
    "collapsed": false
   },
   "outputs": [
    {
     "data": {
      "text/plain": [
       "['qCalJet0Pt',\n",
       " 'qCalJet1Pt',\n",
       " 'qCalJet2Pt',\n",
       " 'qCalJet3Pt',\n",
       " 'qCalJet4Pt',\n",
       " 'qCalJet5Pt',\n",
       " 'qCalJet0Eta',\n",
       " 'qCalJet1Eta',\n",
       " 'qCalJet2Eta',\n",
       " 'qCalJet3Eta',\n",
       " 'qCalJet4Eta',\n",
       " 'qCalJet5Eta',\n",
       " 'qCalJet0Phi',\n",
       " 'qCalJet1Phi',\n",
       " 'qCalJet2Phi',\n",
       " 'qCalJet3Phi',\n",
       " 'qCalJet4Phi',\n",
       " 'qCalJet5Phi',\n",
       " 'qCalJet0En',\n",
       " 'qCalJet1En',\n",
       " 'qCalJet2En',\n",
       " 'qCalJet3En',\n",
       " 'qCalJet4En',\n",
       " 'qCalJet5En',\n",
       " 'qCalJetPt',\n",
       " 'qCalJetEta',\n",
       " 'qCalJetPhi',\n",
       " 'qCalJetEn',\n",
       " 'qCalMETPt',\n",
       " 'qCalMETPhi']"
      ]
     },
     "execution_count": 35,
     "metadata": {},
     "output_type": "execute_result"
    }
   ],
   "source": [
    "Cal_features"
   ]
  },
  {
   "cell_type": "code",
   "execution_count": 36,
   "metadata": {
    "collapsed": false
   },
   "outputs": [
    {
     "data": {
      "text/plain": [
       "230"
      ]
     },
     "execution_count": 36,
     "metadata": {},
     "output_type": "execute_result"
    }
   ],
   "source": [
    "30*7 + 20"
   ]
  },
  {
   "cell_type": "code",
   "execution_count": 37,
   "metadata": {
    "collapsed": false
   },
   "outputs": [
    {
     "name": "stderr",
     "output_type": "stream",
     "text": [
      "100%|██████████| 26/26 [00:06<00:00,  4.37it/s]\n",
      "100%|██████████| 665/665 [01:39<00:00,  7.93it/s]\n",
      "100%|██████████| 3/3 [00:00<00:00,  8.26it/s]\n",
      "100%|██████████| 2/2 [00:00<00:00,  8.35it/s]\n",
      "100%|██████████| 978/978 [01:58<00:00,  7.91it/s]\n",
      "100%|██████████| 104/104 [00:12<00:00,  8.40it/s]\n"
     ]
    }
   ],
   "source": [
    "result_c, num_c, name_c = get_channel_frame(working_paths[11:], Cal_features)"
   ]
  },
  {
   "cell_type": "code",
   "execution_count": 60,
   "metadata": {
    "collapsed": true
   },
   "outputs": [],
   "source": [
    "file_name_c = '/home/fedor/notebook/ml4dc/ok_files/calo_df.pickle'\n",
    "result_c.to_pickle(file_name_c)\n",
    "#result_c = pd.read_pickle(file_name)"
   ]
  },
  {
   "cell_type": "code",
   "execution_count": 39,
   "metadata": {
    "collapsed": false
   },
   "outputs": [
    {
     "data": {
      "text/plain": [
       "(71094, 230)"
      ]
     },
     "execution_count": 39,
     "metadata": {},
     "output_type": "execute_result"
    }
   ],
   "source": [
    "result_c.shape"
   ]
  },
  {
   "cell_type": "code",
   "execution_count": 40,
   "metadata": {
    "collapsed": false
   },
   "outputs": [
    {
     "data": {
      "text/plain": [
       "(70864, 230)"
      ]
     },
     "execution_count": 40,
     "metadata": {},
     "output_type": "execute_result"
    }
   ],
   "source": [
    "result_c.dropna(axis=0, how='any').shape"
   ]
  },
  {
   "cell_type": "code",
   "execution_count": 41,
   "metadata": {
    "collapsed": false
   },
   "outputs": [
    {
     "data": {
      "text/plain": [
       "0.9478718316594931"
      ]
     },
     "execution_count": 41,
     "metadata": {},
     "output_type": "execute_result"
    }
   ],
   "source": [
    "np.mean(result_c[\"isSig\"])"
   ]
  },
  {
   "cell_type": "markdown",
   "metadata": {},
   "source": [
    "## PF"
   ]
  },
  {
   "cell_type": "code",
   "execution_count": 42,
   "metadata": {
    "collapsed": true
   },
   "outputs": [],
   "source": [
    "PF_features = [s for s in all_features if s[:3] == 'qPF']"
   ]
  },
  {
   "cell_type": "code",
   "execution_count": 43,
   "metadata": {
    "collapsed": false
   },
   "outputs": [
    {
     "data": {
      "text/plain": [
       "21"
      ]
     },
     "execution_count": 43,
     "metadata": {},
     "output_type": "execute_result"
    }
   ],
   "source": [
    "PF_features = PF_features[:3*7]\n",
    "len(PF_features)"
   ]
  },
  {
   "cell_type": "code",
   "execution_count": 44,
   "metadata": {
    "collapsed": false
   },
   "outputs": [
    {
     "data": {
      "text/plain": [
       "['qPFJetPt',\n",
       " 'qPFJetEta',\n",
       " 'qPFJetPhi',\n",
       " 'qPFJet0Pt',\n",
       " 'qPFJet1Pt',\n",
       " 'qPFJet2Pt',\n",
       " 'qPFJet3Pt',\n",
       " 'qPFJet4Pt',\n",
       " 'qPFJet5Pt',\n",
       " 'qPFJet0Eta',\n",
       " 'qPFJet1Eta',\n",
       " 'qPFJet2Eta',\n",
       " 'qPFJet3Eta',\n",
       " 'qPFJet4Eta',\n",
       " 'qPFJet5Eta',\n",
       " 'qPFJet0Phi',\n",
       " 'qPFJet1Phi',\n",
       " 'qPFJet2Phi',\n",
       " 'qPFJet3Phi',\n",
       " 'qPFJet4Phi',\n",
       " 'qPFJet5Phi']"
      ]
     },
     "execution_count": 44,
     "metadata": {},
     "output_type": "execute_result"
    }
   ],
   "source": [
    "PF_features"
   ]
  },
  {
   "cell_type": "code",
   "execution_count": 45,
   "metadata": {
    "collapsed": false
   },
   "outputs": [
    {
     "data": {
      "text/plain": [
       "167"
      ]
     },
     "execution_count": 45,
     "metadata": {},
     "output_type": "execute_result"
    }
   ],
   "source": [
    "21*7 + 20"
   ]
  },
  {
   "cell_type": "code",
   "execution_count": 46,
   "metadata": {
    "collapsed": false
   },
   "outputs": [
    {
     "name": "stderr",
     "output_type": "stream",
     "text": [
      "100%|██████████| 26/26 [00:02<00:00,  9.91it/s]\n",
      "100%|██████████| 665/665 [01:07<00:00,  9.50it/s]\n",
      "100%|██████████| 3/3 [00:00<00:00, 10.11it/s]\n",
      "100%|██████████| 2/2 [00:00<00:00, 10.28it/s]\n",
      "100%|██████████| 978/978 [01:39<00:00,  9.86it/s]\n",
      "100%|██████████| 104/104 [00:10<00:00,  9.90it/s]\n"
     ]
    }
   ],
   "source": [
    "result_PF,  num_PF, name_PF = get_channel_frame(working_paths[11:], PF_features)"
   ]
  },
  {
   "cell_type": "code",
   "execution_count": 59,
   "metadata": {
    "collapsed": true
   },
   "outputs": [],
   "source": [
    "file_name_PF = '/home/fedor/notebook/ml4dc/ok_files/PF_df.pickle'\n",
    "result_PF.to_pickle(file_name_PF)\n",
    "#result_PF = pd.read_pickle(file_name)"
   ]
  },
  {
   "cell_type": "code",
   "execution_count": 48,
   "metadata": {
    "collapsed": false,
    "scrolled": true
   },
   "outputs": [
    {
     "data": {
      "text/plain": [
       "(71094, 167)"
      ]
     },
     "execution_count": 48,
     "metadata": {},
     "output_type": "execute_result"
    }
   ],
   "source": [
    "result_PF.shape"
   ]
  },
  {
   "cell_type": "code",
   "execution_count": 49,
   "metadata": {
    "collapsed": false
   },
   "outputs": [
    {
     "data": {
      "text/plain": [
       "(70935, 167)"
      ]
     },
     "execution_count": 49,
     "metadata": {},
     "output_type": "execute_result"
    }
   ],
   "source": [
    "result_PF.dropna(axis=0, how='any').shape"
   ]
  },
  {
   "cell_type": "code",
   "execution_count": 50,
   "metadata": {
    "collapsed": false
   },
   "outputs": [
    {
     "data": {
      "text/plain": [
       "0.9478718316594931"
      ]
     },
     "execution_count": 50,
     "metadata": {},
     "output_type": "execute_result"
    }
   ],
   "source": [
    "np.mean(result_PF[\"isSig\"])"
   ]
  },
  {
   "cell_type": "markdown",
   "metadata": {},
   "source": [
    "# Absence of quantiles"
   ]
  },
  {
   "cell_type": "code",
   "execution_count": 51,
   "metadata": {
    "collapsed": false
   },
   "outputs": [
    {
     "data": {
      "image/png": "[encoded data removed]",
      "text/plain": [
       "<matplotlib.figure.Figure at 0x7f8eec8d2510>"
      ]
     },
     "metadata": {},
     "output_type": "display_data"
    }
   ],
   "source": [
    "plt.hist(num_PF, normed = True, bins = 5)\n",
    "plt.title('PF: '+str(len(name_PF)/7), size = 20)\n",
    "plt.show()"
   ]
  },
  {
   "cell_type": "code",
   "execution_count": 52,
   "metadata": {
    "collapsed": false
   },
   "outputs": [
    {
     "data": {
      "image/png": "[encoded data removed]",
      "text/plain": [
       "<matplotlib.figure.Figure at 0x7f8f09b3d710>"
      ]
     },
     "metadata": {},
     "output_type": "display_data"
    }
   ],
   "source": [
    "plt.hist(num_c, normed = True, bins = 5)\n",
    "plt.title('calo: '+str(len(name_c)/7), size = 20)\n",
    "plt.show()"
   ]
  },
  {
   "cell_type": "code",
   "execution_count": 53,
   "metadata": {
    "collapsed": false
   },
   "outputs": [
    {
     "data": {
      "image/png": "[encoded data removed]",
      "text/plain": [
       "<matplotlib.figure.Figure at 0x7f8ef158aa10>"
      ]
     },
     "metadata": {},
     "output_type": "display_data"
    }
   ],
   "source": [
    "plt.hist(num_m, normed = True, bins = 5)\n",
    "plt.title('muon: '+str(len(name_m)/7), size = 20)\n",
    "plt.show()"
   ]
  },
  {
   "cell_type": "code",
   "execution_count": 54,
   "metadata": {
    "collapsed": false
   },
   "outputs": [
    {
     "data": {
      "image/png": "[encoded data removed]",
      "text/plain": [
       "<matplotlib.figure.Figure at 0x7f8efde04b50>"
      ]
     },
     "metadata": {},
     "output_type": "display_data"
    }
   ],
   "source": [
    "plt.hist(num_ph, normed = True, bins = 5)\n",
    "plt.title('photon: '+str(len(name_ph)/7), size = 20)\n",
    "plt.show()"
   ]
  },
  {
   "cell_type": "markdown",
   "metadata": {},
   "source": [
    "## Merge"
   ]
  },
  {
   "cell_type": "code",
   "execution_count": 61,
   "metadata": {
    "collapsed": false
   },
   "outputs": [],
   "source": [
    "result_m = pd.read_pickle(file_name_m)\n",
    "result_c = pd.read_pickle(file_name_c)\n",
    "result_ph = pd.read_pickle(file_name_ph)\n",
    "result_PF = pd.read_pickle(file_name_PF)"
   ]
  },
  {
   "cell_type": "code",
   "execution_count": 62,
   "metadata": {
    "collapsed": false
   },
   "outputs": [
    {
     "name": "stdout",
     "output_type": "stream",
     "text": [
      "c c 71094\n",
      "c PF 71094\n",
      "c ph 11422\n",
      "c m 64235\n",
      "PF c 71094\n",
      "PF PF 71094\n",
      "PF ph 11422\n",
      "PF m 64235\n",
      "ph c 11422\n",
      "ph PF 11422\n",
      "ph ph 68775\n",
      "ph m 62766\n",
      "m c 64235\n",
      "m PF 64235\n",
      "m ph 62766\n",
      "m m 126111\n"
     ]
    }
   ],
   "source": [
    "rs = [result_c, result_PF, result_ph, result_m]\n",
    "ns = [\"c\", \"PF\", \"ph\", \"m\"]\n",
    "for r1, n1 in zip(rs, ns):\n",
    "    for  r2, n2 in zip(rs, ns):\n",
    "         print n1, n2, pd.merge(r1, r2, how='inner', on=Ids_labels[:-1]+subsystemNames).shape[0]"
   ]
  },
  {
   "cell_type": "code",
   "execution_count": 63,
   "metadata": {
    "collapsed": false
   },
   "outputs": [],
   "source": [
    "a = pd.merge(result_c, result_PF, how='inner', on=Ids_labels[:-1]+subsystemNames)\n",
    "b = pd.merge(result_ph, result_m, how='inner', on=Ids_labels[:-1]+subsystemNames)\n",
    "result = pd.merge(a, b, how='inner', on=Ids_labels[:-1]+subsystemNames)"
   ]
  },
  {
   "cell_type": "code",
   "execution_count": 64,
   "metadata": {
    "collapsed": false
   },
   "outputs": [
    {
     "data": {
      "text/plain": [
       "(10949, 769)"
      ]
     },
     "execution_count": 64,
     "metadata": {},
     "output_type": "execute_result"
    }
   ],
   "source": [
    "result.shape "
   ]
  },
  {
   "cell_type": "code",
   "execution_count": 65,
   "metadata": {
    "collapsed": true
   },
   "outputs": [],
   "source": [
    "file_name_merged = '/home/fedor/notebook/ml4dc/ok_files/merged.pickle'\n",
    "result.to_pickle(file_name_merged)\n",
    "#result = pd.read_pickle(file_name_merged)"
   ]
  },
  {
   "cell_type": "code",
   "execution_count": 67,
   "metadata": {
    "collapsed": false
   },
   "outputs": [
    {
     "data": {
      "text/plain": [
       "769"
      ]
     },
     "execution_count": 67,
     "metadata": {},
     "output_type": "execute_result"
    }
   ],
   "source": [
    "(len(Muon_features)+len(Cal_features)+len(PF_features)+len(Pho_features))*7+len(Ids_labels[:-1]+subsystemNames)"
   ]
  },
  {
   "cell_type": "code",
   "execution_count": 68,
   "metadata": {
    "collapsed": false
   },
   "outputs": [],
   "source": [
    "result = result.dropna(axis=0, how='any')"
   ]
  },
  {
   "cell_type": "code",
   "execution_count": 69,
   "metadata": {
    "collapsed": false
   },
   "outputs": [
    {
     "data": {
      "text/plain": [
       "(10872, 769)"
      ]
     },
     "execution_count": 69,
     "metadata": {},
     "output_type": "execute_result"
    }
   ],
   "source": [
    "result.shape"
   ]
  },
  {
   "cell_type": "code",
   "execution_count": 70,
   "metadata": {
    "collapsed": false
   },
   "outputs": [
    {
     "data": {
      "text/plain": [
       "0.9754415011037527"
      ]
     },
     "execution_count": 70,
     "metadata": {},
     "output_type": "execute_result"
    }
   ],
   "source": [
    "np.mean(result[\"isSig\"])"
   ]
  },
  {
   "cell_type": "code",
   "execution_count": 71,
   "metadata": {
    "collapsed": false
   },
   "outputs": [
    {
     "data": {
      "image/png": "[encoded data removed]",
      "text/plain": [
       "<matplotlib.figure.Figure at 0x7f8eec26ad90>"
      ]
     },
     "metadata": {},
     "output_type": "display_data"
    }
   ],
   "source": [
    "w = []\n",
    "for s_name in subsystemNames:\n",
    "    w.append((1.-np.mean(result[s_name]))*result.shape[0])\n",
    "\n",
    "plt.scatter(np.arange(len(subsystemNames)), w)\n",
    "plt.xticks(np.arange(len(subsystemNames)), subsystemNames, rotation=90, size = 20)\n",
    "plt.yticks(size = 20)\n",
    "plt.show()"
   ]
  },
  {
   "cell_type": "code",
   "execution_count": null,
   "metadata": {
    "collapsed": true
   },
   "outputs": [],
   "source": []
  }
 ],
 "metadata": {
  "kernelspec": {
   "display_name": "Python 2",
   "language": "python",
   "name": "python2"
  },
  "language_info": {
   "codemirror_mode": {
    "name": "ipython",
    "version": 2
   },
   "file_extension": ".py",
   "mimetype": "text/x-python",
   "name": "python",
   "nbconvert_exporter": "python",
   "pygments_lexer": "ipython2",
   "version": "2.7.11"
  }
 },
 "nbformat": 4,
 "nbformat_minor": 0
}
